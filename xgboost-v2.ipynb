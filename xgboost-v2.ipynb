{
 "cells": [
  {
   "cell_type": "code",
   "execution_count": 1,
   "id": "69ea9ddb-fd00-4fff-ab0a-3dcaaa49b091",
   "metadata": {},
   "outputs": [],
   "source": [
    "import pandas as pd\n",
    "import numpy as np\n",
    "from sklearn.model_selection import train_test_split\n",
    "from sklearn.feature_extraction.text import CountVectorizer, TfidfVectorizer\n",
    "from sklearn.ensemble import RandomForestClassifier\n",
    "from sklearn.metrics import accuracy_score, classification_report\n",
    "import pickle\n",
    "from matplotlib import pyplot as plt\n",
    "import seaborn as sns"
   ]
  },
  {
   "cell_type": "code",
   "execution_count": 2,
   "id": "17232a89-cb54-4f3b-9ae5-f42a3dc7eb1f",
   "metadata": {},
   "outputs": [],
   "source": [
    "# read the model dataframe\n",
    "df = pd.read_csv('model_data.csv')"
   ]
  },
  {
   "cell_type": "code",
   "execution_count": 3,
   "id": "75663ed6-a1ac-41e9-a725-03242c8d11cd",
   "metadata": {},
   "outputs": [],
   "source": [
    "data = df[['lemmatized_tweets']]\n",
    "target = df[['cyberbullying_type']]"
   ]
  },
  {
   "cell_type": "code",
   "execution_count": 4,
   "id": "760ba852-f72b-497b-bbb4-7b4d05cd7426",
   "metadata": {},
   "outputs": [],
   "source": [
    "label_codes = {'age':1, \n",
    "               'gender':2, \n",
    "               'ethnicity':3, \n",
    "               'religion':4, \n",
    "               'other_cyberbullying':5, \n",
    "               'not_cyberbullying':0\n",
    "              }\n",
    "target = target.replace({'cyberbullying_type':label_codes})"
   ]
  },
  {
   "cell_type": "code",
   "execution_count": 5,
   "id": "57ebde0a-5bfd-4682-9a6b-8f772d91f7f5",
   "metadata": {},
   "outputs": [],
   "source": [
    "# train/test split\n",
    "X_train, X_test, y_train, y_test = train_test_split(np.array(data['lemmatized_tweets']), \n",
    "                                                    np.array(target['cyberbullying_type']), \n",
    "                                                    test_size=0.30, random_state=42)"
   ]
  },
  {
   "cell_type": "code",
   "execution_count": 8,
   "id": "f6d55149-ec4a-4dbd-9c25-00d6cdc058ee",
   "metadata": {},
   "outputs": [],
   "source": [
    "from xgboost import XGBClassifier\n",
    "\n",
    "model = XGBClassifier(\n",
    "    use_label_encoder=False,\n",
    "    max_depth=4,\n",
    "    min_child_weight=2,\n",
    "    gamma=0.3,\n",
    "    subsample=0.7,\n",
    "    colsample_bytree=0.6,\n",
    "    reg_alpha=0.1,\n",
    ")\n"
   ]
  },
  {
   "cell_type": "code",
   "execution_count": 9,
   "id": "2ab1385a-beb6-490f-89d4-44fbda003ae6",
   "metadata": {},
   "outputs": [
    {
     "data": {
      "text/plain": [
       "XGBClassifier(base_score=0.5, booster='gbtree', callbacks=None,\n",
       "              colsample_bylevel=1, colsample_bynode=1, colsample_bytree=0.6,\n",
       "              early_stopping_rounds=None, enable_categorical=False,\n",
       "              eval_metric=None, gamma=0.3, gpu_id=-1, grow_policy='depthwise',\n",
       "              importance_type=None, interaction_constraints='',\n",
       "              learning_rate=0.300000012, max_bin=256, max_cat_to_onehot=4,\n",
       "              max_delta_step=0, max_depth=4, max_leaves=0, min_child_weight=2,\n",
       "              missing=nan, monotone_constraints='()', n_estimators=100,\n",
       "              n_jobs=0, num_parallel_tree=1, objective='multi:softprob',\n",
       "              predictor='auto', random_state=0, reg_alpha=0.1, ...)"
      ]
     },
     "execution_count": 9,
     "metadata": {},
     "output_type": "execute_result"
    }
   ],
   "source": [
    "model.fit(train, y_train)"
   ]
  },
  {
   "cell_type": "code",
   "execution_count": 10,
   "id": "242f4134-8b87-4bfb-86b3-e434495f94d6",
   "metadata": {},
   "outputs": [],
   "source": [
    "y_pred = model.predict(test)"
   ]
  },
  {
   "cell_type": "code",
   "execution_count": 11,
   "id": "d25778b7-3875-4c37-9051-546994f86377",
   "metadata": {},
   "outputs": [
    {
     "data": {
      "text/html": [
       "<div>\n",
       "<style scoped>\n",
       "    .dataframe tbody tr th:only-of-type {\n",
       "        vertical-align: middle;\n",
       "    }\n",
       "\n",
       "    .dataframe tbody tr th {\n",
       "        vertical-align: top;\n",
       "    }\n",
       "\n",
       "    .dataframe thead th {\n",
       "        text-align: right;\n",
       "    }\n",
       "</style>\n",
       "<table border=\"1\" class=\"dataframe\">\n",
       "  <thead>\n",
       "    <tr style=\"text-align: right;\">\n",
       "      <th></th>\n",
       "      <th>cuberbullying_type</th>\n",
       "      <th>precision</th>\n",
       "      <th>recall</th>\n",
       "      <th>f1-score</th>\n",
       "      <th>support</th>\n",
       "    </tr>\n",
       "  </thead>\n",
       "  <tbody>\n",
       "    <tr>\n",
       "      <th>0</th>\n",
       "      <td>not_cyberbulling</td>\n",
       "      <td>0.569993</td>\n",
       "      <td>0.629264</td>\n",
       "      <td>0.598164</td>\n",
       "      <td>2433.000000</td>\n",
       "    </tr>\n",
       "    <tr>\n",
       "      <th>1</th>\n",
       "      <td>age</td>\n",
       "      <td>0.985776</td>\n",
       "      <td>0.973191</td>\n",
       "      <td>0.979443</td>\n",
       "      <td>2350.000000</td>\n",
       "    </tr>\n",
       "    <tr>\n",
       "      <th>2</th>\n",
       "      <td>gender</td>\n",
       "      <td>0.924869</td>\n",
       "      <td>0.825902</td>\n",
       "      <td>0.872589</td>\n",
       "      <td>2355.000000</td>\n",
       "    </tr>\n",
       "    <tr>\n",
       "      <th>3</th>\n",
       "      <td>ethnicity</td>\n",
       "      <td>0.987957</td>\n",
       "      <td>0.985093</td>\n",
       "      <td>0.986523</td>\n",
       "      <td>2415.000000</td>\n",
       "    </tr>\n",
       "    <tr>\n",
       "      <th>4</th>\n",
       "      <td>religion</td>\n",
       "      <td>0.966995</td>\n",
       "      <td>0.947501</td>\n",
       "      <td>0.957149</td>\n",
       "      <td>2381.000000</td>\n",
       "    </tr>\n",
       "    <tr>\n",
       "      <th>5</th>\n",
       "      <td>other_cyberbullying</td>\n",
       "      <td>0.580795</td>\n",
       "      <td>0.602193</td>\n",
       "      <td>0.591301</td>\n",
       "      <td>2280.000000</td>\n",
       "    </tr>\n",
       "    <tr>\n",
       "      <th>accuracy</th>\n",
       "      <td></td>\n",
       "      <td>0.828127</td>\n",
       "      <td>0.828127</td>\n",
       "      <td>0.828127</td>\n",
       "      <td>0.828127</td>\n",
       "    </tr>\n",
       "    <tr>\n",
       "      <th>macro avg</th>\n",
       "      <td></td>\n",
       "      <td>0.836064</td>\n",
       "      <td>0.827191</td>\n",
       "      <td>0.830861</td>\n",
       "      <td>14214.000000</td>\n",
       "    </tr>\n",
       "    <tr>\n",
       "      <th>weighted avg</th>\n",
       "      <td></td>\n",
       "      <td>0.836779</td>\n",
       "      <td>0.828127</td>\n",
       "      <td>0.831684</td>\n",
       "      <td>14214.000000</td>\n",
       "    </tr>\n",
       "  </tbody>\n",
       "</table>\n",
       "</div>"
      ],
      "text/plain": [
       "               cuberbullying_type  precision    recall  f1-score       support\n",
       "0                not_cyberbulling   0.569993  0.629264  0.598164   2433.000000\n",
       "1                             age   0.985776  0.973191  0.979443   2350.000000\n",
       "2                          gender   0.924869  0.825902  0.872589   2355.000000\n",
       "3                       ethnicity   0.987957  0.985093  0.986523   2415.000000\n",
       "4                        religion   0.966995  0.947501  0.957149   2381.000000\n",
       "5             other_cyberbullying   0.580795  0.602193  0.591301   2280.000000\n",
       "accuracy                            0.828127  0.828127  0.828127      0.828127\n",
       "macro avg                           0.836064  0.827191  0.830861  14214.000000\n",
       "weighted avg                        0.836779  0.828127  0.831684  14214.000000"
      ]
     },
     "execution_count": 11,
     "metadata": {},
     "output_type": "execute_result"
    }
   ],
   "source": [
    "# classification report for multiclass classification\n",
    "report = classification_report(y_test, y_pred, output_dict=True)\n",
    "class_report = pd.DataFrame(report).transpose()\n",
    "class_report['cuberbullying_type'] = ['not_cyberbulling', 'age', 'gender',\n",
    "                                     'ethnicity', 'religion', 'other_cyberbullying', '', '', '']\n",
    "class_report = class_report[['cuberbullying_type', 'precision', 'recall',\n",
    "                            'f1-score', 'support']]\n",
    "class_report"
   ]
  },
  {
   "cell_type": "code",
   "execution_count": 13,
   "id": "7315f1b7-5b5d-418a-bb7a-2be844215bbd",
   "metadata": {},
   "outputs": [],
   "source": [
    "# Serialize and save the model\n",
    "filename = 'model/XGBoost/model.sav'\n",
    "pickle.dump(model, open(filename, 'wb'))"
   ]
  },
  {
   "cell_type": "code",
   "execution_count": null,
   "id": "9adc644a-9ce1-4bfd-9eb7-47d7c58e4ee1",
   "metadata": {},
   "outputs": [],
   "source": []
  }
 ],
 "metadata": {
  "environment": {
   "kernel": "python3",
   "name": "common-cu110.m94",
   "type": "gcloud",
   "uri": "gcr.io/deeplearning-platform-release/base-cu110:m94"
  },
  "kernelspec": {
   "display_name": "Python 3",
   "language": "python",
   "name": "python3"
  },
  "language_info": {
   "codemirror_mode": {
    "name": "ipython",
    "version": 3
   },
   "file_extension": ".py",
   "mimetype": "text/x-python",
   "name": "python",
   "nbconvert_exporter": "python",
   "pygments_lexer": "ipython3",
   "version": "3.7.12"
  }
 },
 "nbformat": 4,
 "nbformat_minor": 5
}
