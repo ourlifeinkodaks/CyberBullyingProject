{
 "cells": [
  {
   "cell_type": "code",
   "execution_count": 32,
   "id": "69ea9ddb-fd00-4fff-ab0a-3dcaaa49b091",
   "metadata": {},
   "outputs": [],
   "source": [
    "import pandas as pd\n",
    "import numpy as np\n",
    "from sklearn.model_selection import train_test_split\n",
    "from sklearn.feature_extraction.text import CountVectorizer, TfidfVectorizer\n",
    "from sklearn.metrics import accuracy_score, classification_report\n",
    "import pickle\n",
    "from matplotlib import pyplot as plt\n",
    "import seaborn as sns"
   ]
  },
  {
   "cell_type": "code",
   "execution_count": 33,
   "id": "17232a89-cb54-4f3b-9ae5-f42a3dc7eb1f",
   "metadata": {},
   "outputs": [],
   "source": [
    "# read the model dataframe\n",
    "df = pd.read_csv('model_data.csv')"
   ]
  },
  {
   "cell_type": "markdown",
   "id": "52d2bdce-d6ba-4937-80d1-a0897003e759",
   "metadata": {},
   "source": [
    "#### CatBoost"
   ]
  },
  {
   "cell_type": "code",
   "execution_count": 34,
   "id": "75663ed6-a1ac-41e9-a725-03242c8d11cd",
   "metadata": {},
   "outputs": [],
   "source": [
    "data = df[['lemmatized_tweets']]\n",
    "target = df[['cyberbullying_type']]"
   ]
  },
  {
   "cell_type": "code",
   "execution_count": 35,
   "id": "760ba852-f72b-497b-bbb4-7b4d05cd7426",
   "metadata": {},
   "outputs": [],
   "source": [
    "label_codes = {'age':1, \n",
    "               'gender':2, \n",
    "               'ethnicity':3, \n",
    "               'religion':4, \n",
    "               'other_cyberbullying':5, \n",
    "               'not_cyberbullying':0\n",
    "              }\n",
    "target = target.replace({'cyberbullying_type':label_codes})"
   ]
  },
  {
   "cell_type": "code",
   "execution_count": 36,
   "id": "57ebde0a-5bfd-4682-9a6b-8f772d91f7f5",
   "metadata": {},
   "outputs": [],
   "source": [
    "# train/test split\n",
    "X_train, X_test, y_train, y_test = train_test_split(np.array(data['lemmatized_tweets']), \n",
    "                                                    np.array(target['cyberbullying_type']), \n",
    "                                                    test_size=0.30, \n",
    "                                                    random_state=42)"
   ]
  },
  {
   "cell_type": "code",
   "execution_count": 37,
   "id": "9358de68-ec16-4e2a-98e0-e15f15e086fb",
   "metadata": {},
   "outputs": [],
   "source": [
    "vec = TfidfVectorizer(use_idf=True, min_df=0.00002, max_df=0.6)\n",
    "train = vec.fit_transform(X_train.astype('U'))\n",
    "test = vec.transform(X_test.astype('U'))"
   ]
  },
  {
   "cell_type": "code",
   "execution_count": 38,
   "id": "2be53064-753e-47d0-81a2-8274346abf9a",
   "metadata": {},
   "outputs": [],
   "source": [
    "from catboost import CatBoostClassifier\n",
    "\n",
    "model = CatBoostClassifier(iterations=20,\n",
    "                           learning_rate=0.01,\n",
    "                           depth=10,\n",
    "                           loss_function='MultiClass')"
   ]
  },
  {
   "cell_type": "code",
   "execution_count": 39,
   "id": "2ab1385a-beb6-490f-89d4-44fbda003ae6",
   "metadata": {},
   "outputs": [
    {
     "name": "stdout",
     "output_type": "stream",
     "text": [
      "0:\tlearn: 1.7652293\ttotal: 6.27s\tremaining: 1m 59s\n",
      "1:\tlearn: 1.7399789\ttotal: 12.6s\tremaining: 1m 53s\n",
      "2:\tlearn: 1.7166159\ttotal: 18.9s\tremaining: 1m 46s\n",
      "3:\tlearn: 1.6934738\ttotal: 25.2s\tremaining: 1m 40s\n",
      "4:\tlearn: 1.6712449\ttotal: 31.9s\tremaining: 1m 35s\n",
      "5:\tlearn: 1.6509936\ttotal: 38.2s\tremaining: 1m 29s\n",
      "6:\tlearn: 1.6300688\ttotal: 44.6s\tremaining: 1m 22s\n",
      "7:\tlearn: 1.6109616\ttotal: 50.9s\tremaining: 1m 16s\n",
      "8:\tlearn: 1.5917443\ttotal: 57.2s\tremaining: 1m 9s\n",
      "9:\tlearn: 1.5730925\ttotal: 1m 3s\tremaining: 1m 3s\n",
      "10:\tlearn: 1.5544461\ttotal: 1m 9s\tremaining: 57.2s\n",
      "11:\tlearn: 1.5372324\ttotal: 1m 16s\tremaining: 50.8s\n",
      "12:\tlearn: 1.5206757\ttotal: 1m 22s\tremaining: 44.5s\n",
      "13:\tlearn: 1.5056836\ttotal: 1m 28s\tremaining: 38.1s\n",
      "14:\tlearn: 1.4903315\ttotal: 1m 35s\tremaining: 31.8s\n",
      "15:\tlearn: 1.4753357\ttotal: 1m 41s\tremaining: 25.5s\n",
      "16:\tlearn: 1.4609310\ttotal: 1m 48s\tremaining: 19.1s\n",
      "17:\tlearn: 1.4473233\ttotal: 1m 54s\tremaining: 12.7s\n",
      "18:\tlearn: 1.4329909\ttotal: 2m 1s\tremaining: 6.38s\n",
      "19:\tlearn: 1.4192310\ttotal: 2m 7s\tremaining: 0us\n"
     ]
    },
    {
     "data": {
      "text/plain": [
       "<catboost.core.CatBoostClassifier at 0x7f99370f0d90>"
      ]
     },
     "execution_count": 39,
     "metadata": {},
     "output_type": "execute_result"
    }
   ],
   "source": [
    "model.fit(train, y_train)"
   ]
  },
  {
   "cell_type": "code",
   "execution_count": 40,
   "id": "242f4134-8b87-4bfb-86b3-e434495f94d6",
   "metadata": {},
   "outputs": [],
   "source": [
    "y_pred = model.predict(test)"
   ]
  },
  {
   "cell_type": "code",
   "execution_count": 41,
   "id": "d25778b7-3875-4c37-9051-546994f86377",
   "metadata": {},
   "outputs": [
    {
     "data": {
      "text/html": [
       "<div>\n",
       "<style scoped>\n",
       "    .dataframe tbody tr th:only-of-type {\n",
       "        vertical-align: middle;\n",
       "    }\n",
       "\n",
       "    .dataframe tbody tr th {\n",
       "        vertical-align: top;\n",
       "    }\n",
       "\n",
       "    .dataframe thead th {\n",
       "        text-align: right;\n",
       "    }\n",
       "</style>\n",
       "<table border=\"1\" class=\"dataframe\">\n",
       "  <thead>\n",
       "    <tr style=\"text-align: right;\">\n",
       "      <th></th>\n",
       "      <th>cuberbullying_type</th>\n",
       "      <th>precision</th>\n",
       "      <th>recall</th>\n",
       "      <th>f1-score</th>\n",
       "      <th>support</th>\n",
       "    </tr>\n",
       "  </thead>\n",
       "  <tbody>\n",
       "    <tr>\n",
       "      <th>0</th>\n",
       "      <td>not_cyberbulling</td>\n",
       "      <td>0.555851</td>\n",
       "      <td>0.085902</td>\n",
       "      <td>0.148807</td>\n",
       "      <td>2433.000000</td>\n",
       "    </tr>\n",
       "    <tr>\n",
       "      <th>1</th>\n",
       "      <td>age</td>\n",
       "      <td>0.936421</td>\n",
       "      <td>0.946383</td>\n",
       "      <td>0.941376</td>\n",
       "      <td>2350.000000</td>\n",
       "    </tr>\n",
       "    <tr>\n",
       "      <th>2</th>\n",
       "      <td>gender</td>\n",
       "      <td>0.969769</td>\n",
       "      <td>0.694692</td>\n",
       "      <td>0.809500</td>\n",
       "      <td>2355.000000</td>\n",
       "    </tr>\n",
       "    <tr>\n",
       "      <th>3</th>\n",
       "      <td>ethnicity</td>\n",
       "      <td>0.981250</td>\n",
       "      <td>0.845135</td>\n",
       "      <td>0.908120</td>\n",
       "      <td>2415.000000</td>\n",
       "    </tr>\n",
       "    <tr>\n",
       "      <th>4</th>\n",
       "      <td>religion</td>\n",
       "      <td>0.971817</td>\n",
       "      <td>0.839983</td>\n",
       "      <td>0.901104</td>\n",
       "      <td>2381.000000</td>\n",
       "    </tr>\n",
       "    <tr>\n",
       "      <th>5</th>\n",
       "      <td>other_cyberbullying</td>\n",
       "      <td>0.386485</td>\n",
       "      <td>0.955702</td>\n",
       "      <td>0.550392</td>\n",
       "      <td>2280.000000</td>\n",
       "    </tr>\n",
       "    <tr>\n",
       "      <th>accuracy</th>\n",
       "      <td></td>\n",
       "      <td>0.723864</td>\n",
       "      <td>0.723864</td>\n",
       "      <td>0.723864</td>\n",
       "      <td>0.723864</td>\n",
       "    </tr>\n",
       "    <tr>\n",
       "      <th>macro avg</th>\n",
       "      <td></td>\n",
       "      <td>0.800265</td>\n",
       "      <td>0.727966</td>\n",
       "      <td>0.709883</td>\n",
       "      <td>14214.000000</td>\n",
       "    </tr>\n",
       "    <tr>\n",
       "      <th>weighted avg</th>\n",
       "      <td></td>\n",
       "      <td>0.802137</td>\n",
       "      <td>0.723864</td>\n",
       "      <td>0.708751</td>\n",
       "      <td>14214.000000</td>\n",
       "    </tr>\n",
       "  </tbody>\n",
       "</table>\n",
       "</div>"
      ],
      "text/plain": [
       "               cuberbullying_type  precision    recall  f1-score       support\n",
       "0                not_cyberbulling   0.555851  0.085902  0.148807   2433.000000\n",
       "1                             age   0.936421  0.946383  0.941376   2350.000000\n",
       "2                          gender   0.969769  0.694692  0.809500   2355.000000\n",
       "3                       ethnicity   0.981250  0.845135  0.908120   2415.000000\n",
       "4                        religion   0.971817  0.839983  0.901104   2381.000000\n",
       "5             other_cyberbullying   0.386485  0.955702  0.550392   2280.000000\n",
       "accuracy                            0.723864  0.723864  0.723864      0.723864\n",
       "macro avg                           0.800265  0.727966  0.709883  14214.000000\n",
       "weighted avg                        0.802137  0.723864  0.708751  14214.000000"
      ]
     },
     "execution_count": 41,
     "metadata": {},
     "output_type": "execute_result"
    }
   ],
   "source": [
    "# classification report for multiclass classification\n",
    "report = classification_report(y_test, y_pred, output_dict=True)\n",
    "class_report = pd.DataFrame(report).transpose()\n",
    "class_report['cuberbullying_type'] = ['not_cyberbulling', 'age', 'gender',\n",
    "                                     'ethnicity', 'religion', 'other_cyberbullying', '', '', '']\n",
    "class_report = class_report[['cuberbullying_type', 'precision', 'recall',\n",
    "                            'f1-score', 'support']]\n",
    "class_report"
   ]
  },
  {
   "cell_type": "code",
   "execution_count": 42,
   "id": "7315f1b7-5b5d-418a-bb7a-2be844215bbd",
   "metadata": {},
   "outputs": [],
   "source": [
    "# Serialize and save the model\n",
    "filename = 'model/CatBoost/model.sav'\n",
    "pickle.dump(model, open(filename, 'wb'))"
   ]
  },
  {
   "cell_type": "code",
   "execution_count": null,
   "id": "a1731839-dad1-49ff-90c8-519588c8c68d",
   "metadata": {},
   "outputs": [],
   "source": []
  }
 ],
 "metadata": {
  "environment": {
   "kernel": "python3",
   "name": "common-cu110.m94",
   "type": "gcloud",
   "uri": "gcr.io/deeplearning-platform-release/base-cu110:m94"
  },
  "kernelspec": {
   "display_name": "Python 3",
   "language": "python",
   "name": "python3"
  },
  "language_info": {
   "codemirror_mode": {
    "name": "ipython",
    "version": 3
   },
   "file_extension": ".py",
   "mimetype": "text/x-python",
   "name": "python",
   "nbconvert_exporter": "python",
   "pygments_lexer": "ipython3",
   "version": "3.7.12"
  }
 },
 "nbformat": 4,
 "nbformat_minor": 5
}
