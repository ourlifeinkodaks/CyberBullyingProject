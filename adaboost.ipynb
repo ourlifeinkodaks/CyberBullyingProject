{
 "cells": [
  {
   "cell_type": "code",
   "execution_count": 1,
   "id": "bc691d4a-2bf7-459f-bdf0-8d389932f3fc",
   "metadata": {},
   "outputs": [],
   "source": [
    "'''AdaBoost Classifier Classifier w/o Polarity Feature'''\n",
    "import pandas as pd\n",
    "import numpy as np\n",
    "from sklearn.model_selection import train_test_split\n",
    "from sklearn.feature_extraction.text import TfidfVectorizer\n",
    "from sklearn.ensemble import AdaBoostClassifier\n",
    "from sklearn.metrics import accuracy_score, classification_report\n",
    "import pickle"
   ]
  },
  {
   "cell_type": "code",
   "execution_count": 2,
   "id": "1104e401-ec11-4498-a1f5-98fbd0511b1e",
   "metadata": {},
   "outputs": [],
   "source": [
    "# read the model dataframe\n",
    "df = pd.read_csv('model_data.csv')"
   ]
  },
  {
   "cell_type": "code",
   "execution_count": 3,
   "id": "ccbdcba0-01ef-41b5-a847-400677dee143",
   "metadata": {},
   "outputs": [
    {
     "data": {
      "text/html": [
       "<div>\n",
       "<style scoped>\n",
       "    .dataframe tbody tr th:only-of-type {\n",
       "        vertical-align: middle;\n",
       "    }\n",
       "\n",
       "    .dataframe tbody tr th {\n",
       "        vertical-align: top;\n",
       "    }\n",
       "\n",
       "    .dataframe thead th {\n",
       "        text-align: right;\n",
       "    }\n",
       "</style>\n",
       "<table border=\"1\" class=\"dataframe\">\n",
       "  <thead>\n",
       "    <tr style=\"text-align: right;\">\n",
       "      <th></th>\n",
       "      <th>tweet_text</th>\n",
       "      <th>cyberbullying_type</th>\n",
       "      <th>clean_tweets</th>\n",
       "      <th>lemmatized_tweets</th>\n",
       "      <th>polarity_nltk</th>\n",
       "      <th>polarity_textblob</th>\n",
       "    </tr>\n",
       "  </thead>\n",
       "  <tbody>\n",
       "    <tr>\n",
       "      <th>0</th>\n",
       "      <td>In other words #katandandre, your food was cra...</td>\n",
       "      <td>not_cyberbullying</td>\n",
       "      <td>words katandandre food crapilicious</td>\n",
       "      <td>word katandandre food crapilicious</td>\n",
       "      <td>0.0000</td>\n",
       "      <td>0.00</td>\n",
       "    </tr>\n",
       "    <tr>\n",
       "      <th>1</th>\n",
       "      <td>Why is #aussietv so white? #MKR #theblock #ImA...</td>\n",
       "      <td>not_cyberbullying</td>\n",
       "      <td>aussietv white theblock imacelebrityau today s...</td>\n",
       "      <td>aussietv white theblock imacelebrityau today s...</td>\n",
       "      <td>0.0000</td>\n",
       "      <td>0.00</td>\n",
       "    </tr>\n",
       "    <tr>\n",
       "      <th>2</th>\n",
       "      <td>@XochitlSuckkks a classy whore? Or more red ve...</td>\n",
       "      <td>not_cyberbullying</td>\n",
       "      <td>classy whore red velvet cupcakes</td>\n",
       "      <td>classy whore red velvet cupcake</td>\n",
       "      <td>-0.3400</td>\n",
       "      <td>0.05</td>\n",
       "    </tr>\n",
       "    <tr>\n",
       "      <th>3</th>\n",
       "      <td>@Jason_Gio meh. :P  thanks for the heads up, b...</td>\n",
       "      <td>not_cyberbullying</td>\n",
       "      <td>meh p thanks heads concerned another angry dud...</td>\n",
       "      <td>meh p thanks head concerned another angry dude...</td>\n",
       "      <td>-0.1779</td>\n",
       "      <td>-0.15</td>\n",
       "    </tr>\n",
       "    <tr>\n",
       "      <th>4</th>\n",
       "      <td>@RudhoeEnglish This is an ISIS account pretend...</td>\n",
       "      <td>not_cyberbullying</td>\n",
       "      <td>isis account pretending kurdish account like i...</td>\n",
       "      <td>isi account pretending kurdish account like is...</td>\n",
       "      <td>0.4404</td>\n",
       "      <td>0.00</td>\n",
       "    </tr>\n",
       "  </tbody>\n",
       "</table>\n",
       "</div>"
      ],
      "text/plain": [
       "                                          tweet_text cyberbullying_type  \\\n",
       "0  In other words #katandandre, your food was cra...  not_cyberbullying   \n",
       "1  Why is #aussietv so white? #MKR #theblock #ImA...  not_cyberbullying   \n",
       "2  @XochitlSuckkks a classy whore? Or more red ve...  not_cyberbullying   \n",
       "3  @Jason_Gio meh. :P  thanks for the heads up, b...  not_cyberbullying   \n",
       "4  @RudhoeEnglish This is an ISIS account pretend...  not_cyberbullying   \n",
       "\n",
       "                                        clean_tweets  \\\n",
       "0                words katandandre food crapilicious   \n",
       "1  aussietv white theblock imacelebrityau today s...   \n",
       "2                   classy whore red velvet cupcakes   \n",
       "3  meh p thanks heads concerned another angry dud...   \n",
       "4  isis account pretending kurdish account like i...   \n",
       "\n",
       "                                   lemmatized_tweets  polarity_nltk  \\\n",
       "0                 word katandandre food crapilicious         0.0000   \n",
       "1  aussietv white theblock imacelebrityau today s...         0.0000   \n",
       "2                    classy whore red velvet cupcake        -0.3400   \n",
       "3  meh p thanks head concerned another angry dude...        -0.1779   \n",
       "4  isi account pretending kurdish account like is...         0.4404   \n",
       "\n",
       "   polarity_textblob  \n",
       "0               0.00  \n",
       "1               0.00  \n",
       "2               0.05  \n",
       "3              -0.15  \n",
       "4               0.00  "
      ]
     },
     "execution_count": 3,
     "metadata": {},
     "output_type": "execute_result"
    }
   ],
   "source": [
    "df.head()"
   ]
  },
  {
   "cell_type": "code",
   "execution_count": 4,
   "id": "102f7e1f-9c89-40e8-a0a6-00c864456e13",
   "metadata": {},
   "outputs": [],
   "source": [
    "data = df[['lemmatized_tweets']]\n",
    "target = df[['cyberbullying_type']]"
   ]
  },
  {
   "cell_type": "code",
   "execution_count": 5,
   "id": "f1ff896c-2050-4ef3-ae4e-c96d7ea50ae1",
   "metadata": {},
   "outputs": [],
   "source": [
    "label_codes = {'age':1, \n",
    "               'gender':2, \n",
    "               'ethnicity':3, \n",
    "               'religion':4, \n",
    "               'other_cyberbullying':5, \n",
    "               'not_cyberbullying':0\n",
    "              }"
   ]
  },
  {
   "cell_type": "code",
   "execution_count": 6,
   "id": "f7f74294-dded-4324-bdae-fb96ff13ed68",
   "metadata": {},
   "outputs": [],
   "source": [
    "# encoding target labels\n",
    "target = target.replace({'cyberbullying_type':label_codes})"
   ]
  },
  {
   "cell_type": "markdown",
   "id": "2a15107f-fc8d-42b1-b038-a4a5c6183213",
   "metadata": {},
   "source": [
    "vec = TfidfVectorizer()\n",
    "feats = vec.fit_transform(data['lemmatized_tweets'].astype('U'))"
   ]
  },
  {
   "cell_type": "code",
   "execution_count": 7,
   "id": "b3c8b7b7-fb61-4b2e-9a62-fc931a559c08",
   "metadata": {},
   "outputs": [
    {
     "data": {
      "text/html": [
       "<div>\n",
       "<style scoped>\n",
       "    .dataframe tbody tr th:only-of-type {\n",
       "        vertical-align: middle;\n",
       "    }\n",
       "\n",
       "    .dataframe tbody tr th {\n",
       "        vertical-align: top;\n",
       "    }\n",
       "\n",
       "    .dataframe thead th {\n",
       "        text-align: right;\n",
       "    }\n",
       "</style>\n",
       "<table border=\"1\" class=\"dataframe\">\n",
       "  <thead>\n",
       "    <tr style=\"text-align: right;\">\n",
       "      <th></th>\n",
       "      <th>lemmatized_tweets</th>\n",
       "    </tr>\n",
       "  </thead>\n",
       "  <tbody>\n",
       "    <tr>\n",
       "      <th>0</th>\n",
       "      <td>word katandandre food crapilicious</td>\n",
       "    </tr>\n",
       "    <tr>\n",
       "      <th>1</th>\n",
       "      <td>aussietv white theblock imacelebrityau today s...</td>\n",
       "    </tr>\n",
       "    <tr>\n",
       "      <th>2</th>\n",
       "      <td>classy whore red velvet cupcake</td>\n",
       "    </tr>\n",
       "    <tr>\n",
       "      <th>3</th>\n",
       "      <td>meh p thanks head concerned another angry dude...</td>\n",
       "    </tr>\n",
       "    <tr>\n",
       "      <th>4</th>\n",
       "      <td>isi account pretending kurdish account like is...</td>\n",
       "    </tr>\n",
       "  </tbody>\n",
       "</table>\n",
       "</div>"
      ],
      "text/plain": [
       "                                   lemmatized_tweets\n",
       "0                 word katandandre food crapilicious\n",
       "1  aussietv white theblock imacelebrityau today s...\n",
       "2                    classy whore red velvet cupcake\n",
       "3  meh p thanks head concerned another angry dude...\n",
       "4  isi account pretending kurdish account like is..."
      ]
     },
     "execution_count": 7,
     "metadata": {},
     "output_type": "execute_result"
    }
   ],
   "source": [
    "data.head()"
   ]
  },
  {
   "cell_type": "code",
   "execution_count": 8,
   "id": "ad869fe3-8f34-468a-bd4a-9dae28b73094",
   "metadata": {},
   "outputs": [],
   "source": [
    "# train/test split\n",
    "X_train, X_test, y_train, y_test = train_test_split(np.array(data['lemmatized_tweets']), \n",
    "                                                    np.array(target['cyberbullying_type']), \n",
    "                                                    test_size=0.30, random_state=42)"
   ]
  },
  {
   "cell_type": "code",
   "execution_count": 9,
   "id": "64c86df0-01cd-4d2e-8c3b-3c257b885d9b",
   "metadata": {},
   "outputs": [],
   "source": [
    "# Vectorize the text data for model\n",
    "vec = TfidfVectorizer(use_idf=True, min_df=0.00002, max_df=0.6)\n",
    "train = vec.fit_transform(X_train.astype('U'))\n",
    "test = vec.transform(X_test.astype('U'))"
   ]
  },
  {
   "cell_type": "code",
   "execution_count": 10,
   "id": "6d72b148-fe26-4788-ac00-9218d14ff5e0",
   "metadata": {},
   "outputs": [],
   "source": [
    "# RandomForest model for Classification\n",
    "model = AdaBoostClassifier(random_state=99)"
   ]
  },
  {
   "cell_type": "code",
   "execution_count": 11,
   "id": "897f03fa-9313-4b3e-acf7-d8c9ba841fd1",
   "metadata": {},
   "outputs": [
    {
     "data": {
      "text/plain": [
       "AdaBoostClassifier(random_state=99)"
      ]
     },
     "execution_count": 11,
     "metadata": {},
     "output_type": "execute_result"
    }
   ],
   "source": [
    "model.fit(train, y_train)"
   ]
  },
  {
   "cell_type": "code",
   "execution_count": 12,
   "id": "e2a5b4bd-412e-4043-8434-69901f86e015",
   "metadata": {},
   "outputs": [],
   "source": [
    "y_pred = model.predict(test)"
   ]
  },
  {
   "cell_type": "code",
   "execution_count": 13,
   "id": "153291f3-30b0-4b89-8a65-d22626fe3bd6",
   "metadata": {},
   "outputs": [
    {
     "name": "stdout",
     "output_type": "stream",
     "text": [
      "Overall model accruacy:  0.7740256085549458\n"
     ]
    }
   ],
   "source": [
    "print('Overall model accruacy: ', accuracy_score(y_test, y_pred))"
   ]
  },
  {
   "cell_type": "code",
   "execution_count": 14,
   "id": "2ce5d46f-44cf-42e6-84f4-e132a3539e38",
   "metadata": {},
   "outputs": [],
   "source": [
    "# classification report for multiclass classification\n",
    "report = classification_report(y_test, y_pred, output_dict=True)\n",
    "class_report = pd.DataFrame(report).transpose()\n",
    "class_report['cuberbullying_type'] = ['not_cyberbulling', 'age', 'gender',\n",
    "                                     'ethnicity', 'religion', 'other_cyberbullying', '', '', '']\n",
    "class_report = class_report[['cuberbullying_type', 'precision', 'recall',\n",
    "                            'f1-score', 'support']]"
   ]
  },
  {
   "cell_type": "code",
   "execution_count": 15,
   "id": "b27aea75-113f-410d-bb5b-d48e4b851f9b",
   "metadata": {},
   "outputs": [
    {
     "data": {
      "text/html": [
       "<div>\n",
       "<style scoped>\n",
       "    .dataframe tbody tr th:only-of-type {\n",
       "        vertical-align: middle;\n",
       "    }\n",
       "\n",
       "    .dataframe tbody tr th {\n",
       "        vertical-align: top;\n",
       "    }\n",
       "\n",
       "    .dataframe thead th {\n",
       "        text-align: right;\n",
       "    }\n",
       "</style>\n",
       "<table border=\"1\" class=\"dataframe\">\n",
       "  <thead>\n",
       "    <tr style=\"text-align: right;\">\n",
       "      <th></th>\n",
       "      <th>cuberbullying_type</th>\n",
       "      <th>precision</th>\n",
       "      <th>recall</th>\n",
       "      <th>f1-score</th>\n",
       "      <th>support</th>\n",
       "    </tr>\n",
       "  </thead>\n",
       "  <tbody>\n",
       "    <tr>\n",
       "      <th>0</th>\n",
       "      <td>not_cyberbulling</td>\n",
       "      <td>0.447755</td>\n",
       "      <td>0.852446</td>\n",
       "      <td>0.587120</td>\n",
       "      <td>2433.000000</td>\n",
       "    </tr>\n",
       "    <tr>\n",
       "      <th>1</th>\n",
       "      <td>age</td>\n",
       "      <td>0.974003</td>\n",
       "      <td>0.956596</td>\n",
       "      <td>0.965221</td>\n",
       "      <td>2350.000000</td>\n",
       "    </tr>\n",
       "    <tr>\n",
       "      <th>2</th>\n",
       "      <td>gender</td>\n",
       "      <td>0.934644</td>\n",
       "      <td>0.746921</td>\n",
       "      <td>0.830304</td>\n",
       "      <td>2355.000000</td>\n",
       "    </tr>\n",
       "    <tr>\n",
       "      <th>3</th>\n",
       "      <td>ethnicity</td>\n",
       "      <td>0.975256</td>\n",
       "      <td>0.946584</td>\n",
       "      <td>0.960706</td>\n",
       "      <td>2415.000000</td>\n",
       "    </tr>\n",
       "    <tr>\n",
       "      <th>4</th>\n",
       "      <td>religion</td>\n",
       "      <td>0.957746</td>\n",
       "      <td>0.942461</td>\n",
       "      <td>0.950042</td>\n",
       "      <td>2381.000000</td>\n",
       "    </tr>\n",
       "    <tr>\n",
       "      <th>5</th>\n",
       "      <td>other_cyberbullying</td>\n",
       "      <td>0.554610</td>\n",
       "      <td>0.171491</td>\n",
       "      <td>0.261977</td>\n",
       "      <td>2280.000000</td>\n",
       "    </tr>\n",
       "    <tr>\n",
       "      <th>accuracy</th>\n",
       "      <td></td>\n",
       "      <td>0.774026</td>\n",
       "      <td>0.774026</td>\n",
       "      <td>0.774026</td>\n",
       "      <td>0.774026</td>\n",
       "    </tr>\n",
       "    <tr>\n",
       "      <th>macro avg</th>\n",
       "      <td></td>\n",
       "      <td>0.807336</td>\n",
       "      <td>0.769416</td>\n",
       "      <td>0.759228</td>\n",
       "      <td>14214.000000</td>\n",
       "    </tr>\n",
       "    <tr>\n",
       "      <th>weighted avg</th>\n",
       "      <td></td>\n",
       "      <td>0.807621</td>\n",
       "      <td>0.774026</td>\n",
       "      <td>0.762035</td>\n",
       "      <td>14214.000000</td>\n",
       "    </tr>\n",
       "  </tbody>\n",
       "</table>\n",
       "</div>"
      ],
      "text/plain": [
       "               cuberbullying_type  precision    recall  f1-score       support\n",
       "0                not_cyberbulling   0.447755  0.852446  0.587120   2433.000000\n",
       "1                             age   0.974003  0.956596  0.965221   2350.000000\n",
       "2                          gender   0.934644  0.746921  0.830304   2355.000000\n",
       "3                       ethnicity   0.975256  0.946584  0.960706   2415.000000\n",
       "4                        religion   0.957746  0.942461  0.950042   2381.000000\n",
       "5             other_cyberbullying   0.554610  0.171491  0.261977   2280.000000\n",
       "accuracy                            0.774026  0.774026  0.774026      0.774026\n",
       "macro avg                           0.807336  0.769416  0.759228  14214.000000\n",
       "weighted avg                        0.807621  0.774026  0.762035  14214.000000"
      ]
     },
     "execution_count": 15,
     "metadata": {},
     "output_type": "execute_result"
    }
   ],
   "source": [
    "class_report"
   ]
  },
  {
   "cell_type": "code",
   "execution_count": 16,
   "id": "fa42125a-2a04-4654-9e02-b47e9008bff4",
   "metadata": {},
   "outputs": [],
   "source": [
    "# Serialize and save the model\n",
    "filename = 'model/AdaBoost/model.sav'\n",
    "pickle.dump(model, open(filename, 'wb'))"
   ]
  },
  {
   "cell_type": "code",
   "execution_count": null,
   "id": "183928ed-dbc8-4be4-acac-f5d5025f41c1",
   "metadata": {},
   "outputs": [],
   "source": []
  }
 ],
 "metadata": {
  "environment": {
   "kernel": "python3",
   "name": "common-cu110.m94",
   "type": "gcloud",
   "uri": "gcr.io/deeplearning-platform-release/base-cu110:m94"
  },
  "kernelspec": {
   "display_name": "Python 3",
   "language": "python",
   "name": "python3"
  },
  "language_info": {
   "codemirror_mode": {
    "name": "ipython",
    "version": 3
   },
   "file_extension": ".py",
   "mimetype": "text/x-python",
   "name": "python",
   "nbconvert_exporter": "python",
   "pygments_lexer": "ipython3",
   "version": "3.7.12"
  }
 },
 "nbformat": 4,
 "nbformat_minor": 5
}
