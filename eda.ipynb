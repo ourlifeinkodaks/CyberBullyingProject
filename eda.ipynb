{
 "cells": [
  {
   "cell_type": "code",
   "execution_count": 1,
   "id": "24b27ea9-e709-4d52-925a-42da13d070cc",
   "metadata": {},
   "outputs": [],
   "source": [
    "import pandas as pd\n",
    "import numpy as np\n",
    "from PIL import Image\n",
    "import seaborn as sns\n",
    "import nltk\n",
    "from nltk.corpus import stopwords\n",
    "stopwords = nltk.corpus.stopwords.words('english')\n",
    "import spacy\n",
    "import re\n",
    "import matplotlib.pyplot as plt\n",
    "from wordcloud import WordCloud\n",
    "from sklearn.feature_extraction.text import CountVectorizer, TfidfVectorizer"
   ]
  },
  {
   "cell_type": "code",
   "execution_count": 2,
   "id": "c1d5c617-6430-42c6-bd25-4a6e74fccf9c",
   "metadata": {},
   "outputs": [],
   "source": [
    "# Data Exploration and Preprocessing/Preparation"
   ]
  },
  {
   "cell_type": "code",
   "execution_count": 3,
   "id": "dccaf29a-9177-49ae-a689-40fa2b603c14",
   "metadata": {},
   "outputs": [],
   "source": [
    "df = pd.read_csv('cyberbullying_tweets.csv')"
   ]
  },
  {
   "cell_type": "code",
   "execution_count": 4,
   "id": "309de9a9-b9d0-4519-b9e9-eeac23ac3c29",
   "metadata": {},
   "outputs": [
    {
     "data": {
      "text/html": [
       "<div>\n",
       "<style scoped>\n",
       "    .dataframe tbody tr th:only-of-type {\n",
       "        vertical-align: middle;\n",
       "    }\n",
       "\n",
       "    .dataframe tbody tr th {\n",
       "        vertical-align: top;\n",
       "    }\n",
       "\n",
       "    .dataframe thead th {\n",
       "        text-align: right;\n",
       "    }\n",
       "</style>\n",
       "<table border=\"1\" class=\"dataframe\">\n",
       "  <thead>\n",
       "    <tr style=\"text-align: right;\">\n",
       "      <th></th>\n",
       "      <th>tweet_text</th>\n",
       "      <th>cyberbullying_type</th>\n",
       "    </tr>\n",
       "  </thead>\n",
       "  <tbody>\n",
       "    <tr>\n",
       "      <th>0</th>\n",
       "      <td>In other words #katandandre, your food was cra...</td>\n",
       "      <td>not_cyberbullying</td>\n",
       "    </tr>\n",
       "    <tr>\n",
       "      <th>1</th>\n",
       "      <td>Why is #aussietv so white? #MKR #theblock #ImA...</td>\n",
       "      <td>not_cyberbullying</td>\n",
       "    </tr>\n",
       "    <tr>\n",
       "      <th>2</th>\n",
       "      <td>@XochitlSuckkks a classy whore? Or more red ve...</td>\n",
       "      <td>not_cyberbullying</td>\n",
       "    </tr>\n",
       "    <tr>\n",
       "      <th>3</th>\n",
       "      <td>@Jason_Gio meh. :P  thanks for the heads up, b...</td>\n",
       "      <td>not_cyberbullying</td>\n",
       "    </tr>\n",
       "    <tr>\n",
       "      <th>4</th>\n",
       "      <td>@RudhoeEnglish This is an ISIS account pretend...</td>\n",
       "      <td>not_cyberbullying</td>\n",
       "    </tr>\n",
       "  </tbody>\n",
       "</table>\n",
       "</div>"
      ],
      "text/plain": [
       "                                          tweet_text cyberbullying_type\n",
       "0  In other words #katandandre, your food was cra...  not_cyberbullying\n",
       "1  Why is #aussietv so white? #MKR #theblock #ImA...  not_cyberbullying\n",
       "2  @XochitlSuckkks a classy whore? Or more red ve...  not_cyberbullying\n",
       "3  @Jason_Gio meh. :P  thanks for the heads up, b...  not_cyberbullying\n",
       "4  @RudhoeEnglish This is an ISIS account pretend...  not_cyberbullying"
      ]
     },
     "execution_count": 4,
     "metadata": {},
     "output_type": "execute_result"
    }
   ],
   "source": [
    "df.head()"
   ]
  },
  {
   "cell_type": "code",
   "execution_count": 5,
   "id": "f521e1af-cb34-4571-8572-062ed804e9f7",
   "metadata": {},
   "outputs": [
    {
     "data": {
      "text/plain": [
       "religion               7998\n",
       "age                    7992\n",
       "gender                 7973\n",
       "ethnicity              7961\n",
       "not_cyberbullying      7945\n",
       "other_cyberbullying    7823\n",
       "Name: cyberbullying_type, dtype: int64"
      ]
     },
     "execution_count": 5,
     "metadata": {},
     "output_type": "execute_result"
    }
   ],
   "source": [
    "df.cyberbullying_type.value_counts()"
   ]
  },
  {
   "cell_type": "code",
   "execution_count": 6,
   "id": "3dfc4f87-13f8-4f88-bd9d-fe876183b49f",
   "metadata": {
    "tags": []
   },
   "outputs": [],
   "source": [
    "'''Function to clean the tweets for futher analyses'''\n",
    "TEXT_CLEANING_RE = \"@\\S+|https?:\\S+|http?:\\S|[^A-Za-z0-9]+\"\n",
    "stopwords.extend(['rt', 'mkr', 'didn', 'bc', 'n', 'm', 'im', 'll', 'y', \n",
    "                      've', 'u', 'ur', 'don', 't', 's', 'amp', 'kat', 'de'])\n",
    "def clean_tweet(tweet):\n",
    "    clean_text = re.sub(TEXT_CLEANING_RE, ' ', tweet)\n",
    "    clean_text = clean_text.lower()\n",
    "    clean_text = ' '.join([word for word in nltk.word_tokenize(clean_text) \n",
    "                           if word not in stopwords])\n",
    "    return clean_text"
   ]
  },
  {
   "cell_type": "markdown",
   "id": "f2a5d199-61b0-435d-8383-a659892294e6",
   "metadata": {},
   "source": [
    "tweet = '''Why is #aussietv so white? #MKR #theblock #ImACelebrityAU #today #sunrise #studio10 #Neighbours #WonderlandTen #etc'''\n",
    "print(clean_tweet(tweet))"
   ]
  },
  {
   "cell_type": "code",
   "execution_count": 7,
   "id": "54ac6b6c-8aeb-4d8b-a0f4-3c523b7f4730",
   "metadata": {},
   "outputs": [],
   "source": [
    "df['clean_tweets'] = df['tweet_text'].apply(clean_tweet)"
   ]
  },
  {
   "cell_type": "code",
   "execution_count": 8,
   "id": "8d66e13b-82e4-41dc-9f0d-1ee42f5b4340",
   "metadata": {},
   "outputs": [
    {
     "data": {
      "text/plain": [
       "tweet_text            0\n",
       "cyberbullying_type    0\n",
       "clean_tweets          0\n",
       "dtype: int64"
      ]
     },
     "execution_count": 8,
     "metadata": {},
     "output_type": "execute_result"
    }
   ],
   "source": [
    "df.isna().sum()"
   ]
  },
  {
   "cell_type": "code",
   "execution_count": 9,
   "id": "ee98fb1f-345b-4d6a-b0a1-b2054fddc6f2",
   "metadata": {},
   "outputs": [
    {
     "data": {
      "text/html": [
       "<div>\n",
       "<style scoped>\n",
       "    .dataframe tbody tr th:only-of-type {\n",
       "        vertical-align: middle;\n",
       "    }\n",
       "\n",
       "    .dataframe tbody tr th {\n",
       "        vertical-align: top;\n",
       "    }\n",
       "\n",
       "    .dataframe thead th {\n",
       "        text-align: right;\n",
       "    }\n",
       "</style>\n",
       "<table border=\"1\" class=\"dataframe\">\n",
       "  <thead>\n",
       "    <tr style=\"text-align: right;\">\n",
       "      <th></th>\n",
       "      <th>tweet_text</th>\n",
       "      <th>cyberbullying_type</th>\n",
       "      <th>clean_tweets</th>\n",
       "    </tr>\n",
       "  </thead>\n",
       "  <tbody>\n",
       "    <tr>\n",
       "      <th>0</th>\n",
       "      <td>In other words #katandandre, your food was cra...</td>\n",
       "      <td>not_cyberbullying</td>\n",
       "      <td>words katandandre food crapilicious</td>\n",
       "    </tr>\n",
       "    <tr>\n",
       "      <th>1</th>\n",
       "      <td>Why is #aussietv so white? #MKR #theblock #ImA...</td>\n",
       "      <td>not_cyberbullying</td>\n",
       "      <td>aussietv white theblock imacelebrityau today s...</td>\n",
       "    </tr>\n",
       "    <tr>\n",
       "      <th>2</th>\n",
       "      <td>@XochitlSuckkks a classy whore? Or more red ve...</td>\n",
       "      <td>not_cyberbullying</td>\n",
       "      <td>classy whore red velvet cupcakes</td>\n",
       "    </tr>\n",
       "    <tr>\n",
       "      <th>3</th>\n",
       "      <td>@Jason_Gio meh. :P  thanks for the heads up, b...</td>\n",
       "      <td>not_cyberbullying</td>\n",
       "      <td>meh p thanks heads concerned another angry dud...</td>\n",
       "    </tr>\n",
       "    <tr>\n",
       "      <th>4</th>\n",
       "      <td>@RudhoeEnglish This is an ISIS account pretend...</td>\n",
       "      <td>not_cyberbullying</td>\n",
       "      <td>isis account pretending kurdish account like i...</td>\n",
       "    </tr>\n",
       "  </tbody>\n",
       "</table>\n",
       "</div>"
      ],
      "text/plain": [
       "                                          tweet_text cyberbullying_type  \\\n",
       "0  In other words #katandandre, your food was cra...  not_cyberbullying   \n",
       "1  Why is #aussietv so white? #MKR #theblock #ImA...  not_cyberbullying   \n",
       "2  @XochitlSuckkks a classy whore? Or more red ve...  not_cyberbullying   \n",
       "3  @Jason_Gio meh. :P  thanks for the heads up, b...  not_cyberbullying   \n",
       "4  @RudhoeEnglish This is an ISIS account pretend...  not_cyberbullying   \n",
       "\n",
       "                                        clean_tweets  \n",
       "0                words katandandre food crapilicious  \n",
       "1  aussietv white theblock imacelebrityau today s...  \n",
       "2                   classy whore red velvet cupcakes  \n",
       "3  meh p thanks heads concerned another angry dud...  \n",
       "4  isis account pretending kurdish account like i...  "
      ]
     },
     "execution_count": 9,
     "metadata": {},
     "output_type": "execute_result"
    }
   ],
   "source": [
    "df.head()"
   ]
  },
  {
   "cell_type": "code",
   "execution_count": 10,
   "id": "d6fce369-de38-46c2-9059-cc7b4ea66e24",
   "metadata": {},
   "outputs": [],
   "source": [
    "'''Word Lemmatization'''\n",
    "from nltk.stem import WordNetLemmatizer\n",
    "lemmatizer = WordNetLemmatizer()\n",
    "def lemmatize_tweets(tweet):\n",
    "    lemmatized_tweets = ' '.join([lemmatizer.lemmatize(word) for word in tweet.split(' ')])\n",
    "    return lemmatized_tweets"
   ]
  },
  {
   "cell_type": "code",
   "execution_count": 11,
   "id": "177f9bb9-675a-4918-bfce-97abb0786751",
   "metadata": {},
   "outputs": [],
   "source": [
    "df['lemmatized_tweets'] = df['clean_tweets'].apply(lemmatize_tweets)"
   ]
  },
  {
   "cell_type": "code",
   "execution_count": 12,
   "id": "dc7b2ace-f2de-4f65-b4cc-3047051daea7",
   "metadata": {},
   "outputs": [
    {
     "data": {
      "text/plain": [
       "tweet_text            0\n",
       "cyberbullying_type    0\n",
       "clean_tweets          0\n",
       "lemmatized_tweets     0\n",
       "dtype: int64"
      ]
     },
     "execution_count": 12,
     "metadata": {},
     "output_type": "execute_result"
    }
   ],
   "source": [
    "df.isna().sum()"
   ]
  },
  {
   "cell_type": "code",
   "execution_count": 13,
   "id": "a8136c21-aa8e-404b-9e92-7b3541b385f4",
   "metadata": {},
   "outputs": [],
   "source": [
    "df.to_csv('processed_tweets.csv', index=False)"
   ]
  },
  {
   "cell_type": "code",
   "execution_count": 14,
   "id": "5dcdd41b-91ec-44a9-b375-1088ce949092",
   "metadata": {},
   "outputs": [
    {
     "data": {
      "text/plain": [
       "tweet_text            0\n",
       "cyberbullying_type    0\n",
       "clean_tweets          0\n",
       "lemmatized_tweets     0\n",
       "dtype: int64"
      ]
     },
     "execution_count": 14,
     "metadata": {},
     "output_type": "execute_result"
    }
   ],
   "source": [
    "df.isna().sum()"
   ]
  },
  {
   "cell_type": "code",
   "execution_count": 15,
   "id": "131875d3-a3ed-42bb-adf2-de2d1da94a5f",
   "metadata": {},
   "outputs": [
    {
     "data": {
      "text/html": [
       "<div>\n",
       "<style scoped>\n",
       "    .dataframe tbody tr th:only-of-type {\n",
       "        vertical-align: middle;\n",
       "    }\n",
       "\n",
       "    .dataframe tbody tr th {\n",
       "        vertical-align: top;\n",
       "    }\n",
       "\n",
       "    .dataframe thead th {\n",
       "        text-align: right;\n",
       "    }\n",
       "</style>\n",
       "<table border=\"1\" class=\"dataframe\">\n",
       "  <thead>\n",
       "    <tr style=\"text-align: right;\">\n",
       "      <th></th>\n",
       "      <th>tweet_text</th>\n",
       "      <th>cyberbullying_type</th>\n",
       "      <th>clean_tweets</th>\n",
       "      <th>lemmatized_tweets</th>\n",
       "    </tr>\n",
       "  </thead>\n",
       "  <tbody>\n",
       "    <tr>\n",
       "      <th>0</th>\n",
       "      <td>In other words #katandandre, your food was cra...</td>\n",
       "      <td>not_cyberbullying</td>\n",
       "      <td>words katandandre food crapilicious</td>\n",
       "      <td>word katandandre food crapilicious</td>\n",
       "    </tr>\n",
       "    <tr>\n",
       "      <th>1</th>\n",
       "      <td>Why is #aussietv so white? #MKR #theblock #ImA...</td>\n",
       "      <td>not_cyberbullying</td>\n",
       "      <td>aussietv white theblock imacelebrityau today s...</td>\n",
       "      <td>aussietv white theblock imacelebrityau today s...</td>\n",
       "    </tr>\n",
       "    <tr>\n",
       "      <th>2</th>\n",
       "      <td>@XochitlSuckkks a classy whore? Or more red ve...</td>\n",
       "      <td>not_cyberbullying</td>\n",
       "      <td>classy whore red velvet cupcakes</td>\n",
       "      <td>classy whore red velvet cupcake</td>\n",
       "    </tr>\n",
       "    <tr>\n",
       "      <th>3</th>\n",
       "      <td>@Jason_Gio meh. :P  thanks for the heads up, b...</td>\n",
       "      <td>not_cyberbullying</td>\n",
       "      <td>meh p thanks heads concerned another angry dud...</td>\n",
       "      <td>meh p thanks head concerned another angry dude...</td>\n",
       "    </tr>\n",
       "    <tr>\n",
       "      <th>4</th>\n",
       "      <td>@RudhoeEnglish This is an ISIS account pretend...</td>\n",
       "      <td>not_cyberbullying</td>\n",
       "      <td>isis account pretending kurdish account like i...</td>\n",
       "      <td>isi account pretending kurdish account like is...</td>\n",
       "    </tr>\n",
       "  </tbody>\n",
       "</table>\n",
       "</div>"
      ],
      "text/plain": [
       "                                          tweet_text cyberbullying_type  \\\n",
       "0  In other words #katandandre, your food was cra...  not_cyberbullying   \n",
       "1  Why is #aussietv so white? #MKR #theblock #ImA...  not_cyberbullying   \n",
       "2  @XochitlSuckkks a classy whore? Or more red ve...  not_cyberbullying   \n",
       "3  @Jason_Gio meh. :P  thanks for the heads up, b...  not_cyberbullying   \n",
       "4  @RudhoeEnglish This is an ISIS account pretend...  not_cyberbullying   \n",
       "\n",
       "                                        clean_tweets  \\\n",
       "0                words katandandre food crapilicious   \n",
       "1  aussietv white theblock imacelebrityau today s...   \n",
       "2                   classy whore red velvet cupcakes   \n",
       "3  meh p thanks heads concerned another angry dud...   \n",
       "4  isis account pretending kurdish account like i...   \n",
       "\n",
       "                                   lemmatized_tweets  \n",
       "0                 word katandandre food crapilicious  \n",
       "1  aussietv white theblock imacelebrityau today s...  \n",
       "2                    classy whore red velvet cupcake  \n",
       "3  meh p thanks head concerned another angry dude...  \n",
       "4  isi account pretending kurdish account like is...  "
      ]
     },
     "execution_count": 15,
     "metadata": {},
     "output_type": "execute_result"
    }
   ],
   "source": [
    "df.head()"
   ]
  },
  {
   "cell_type": "code",
   "execution_count": 16,
   "id": "486ae0c6-b4bb-49e1-bbb6-c9420ef44c3d",
   "metadata": {},
   "outputs": [],
   "source": [
    "# WordCloud Analysis by type of Cyberbullying"
   ]
  },
  {
   "cell_type": "code",
   "execution_count": 17,
   "id": "7e7a63d2-44b9-418e-92d6-51cc5ffa2a8a",
   "metadata": {},
   "outputs": [],
   "source": [
    "'''Word Cloud Function with Twitter Mask'''\n",
    "mask = np.array(Image.open('twitterlogo.jpg'))\n",
    "def plot_wordcloud(bully_label):\n",
    "    plt.figure(figsize=(20,10))\n",
    "    tweet_subset = df[df['cyberbullying_type']==bully_label]\n",
    "    tweet_text = tweet_subset.lemmatized_tweets.values\n",
    "    wcloud = WordCloud(background_color='white',\n",
    "                       colormap=\"Dark2\",\n",
    "                       collocations=True,\n",
    "                       width=2000,\n",
    "                       height=1000,\n",
    "                       mask=mask).generate(\" \".join(tweet_text))\n",
    "    \n",
    "    plt.axis('off')\n",
    "    if '_' in bully_label:\n",
    "        bully_label = ' '.join(bully_label.split('_'))\n",
    "    plt.title(bully_label.capitalize(),fontsize=40)\n",
    "    plt.imshow(wcloud)"
   ]
  },
  {
   "cell_type": "code",
   "execution_count": null,
   "id": "6433ff74-33e2-4308-9a93-5834d412aaf6",
   "metadata": {},
   "outputs": [],
   "source": [
    "bully_types = list(df['cyberbullying_type'].unique())\n",
    "for bully in bully_types:\n",
    "    plot_wordcloud(bully)"
   ]
  },
  {
   "cell_type": "code",
   "execution_count": null,
   "id": "b96d2c52-6409-40e7-8fe6-93d9bd35e2ae",
   "metadata": {
    "tags": []
   },
   "outputs": [],
   "source": [
    "# Top N-gram analysis function with CountVectorizer\n",
    "def get_top_n_gram(corpus, ngram_range,n=None):\n",
    "    vec = CountVectorizer(ngram_range=ngram_range,stop_words = stopwords).fit(corpus)\n",
    "    bag_of_words = vec.transform(corpus)\n",
    "    sum_words = bag_of_words.sum(axis=0) \n",
    "    words_freq = [(word, sum_words[0, idx]) for word, idx in vec.vocabulary_.items()]\n",
    "    words_freq =sorted(words_freq, key = lambda x: x[1], reverse=True)\n",
    "    return words_freq[:n]"
   ]
  },
  {
   "cell_type": "code",
   "execution_count": null,
   "id": "bc58840c-5976-42a2-bdee-24cbfa5b4ec7",
   "metadata": {},
   "outputs": [],
   "source": [
    "'''Plot bigrams using a function'''\n",
    "def plot_bigrams(bully_label):\n",
    "    tweet_subset = df[df['cyberbullying_type']==bully_label]\n",
    "    tweet_text = tweet_subset.lemmatized_tweets.values\n",
    "    bigrams_series = get_top_n_gram(tweet_text, [2,2], 10)\n",
    "    idx, values = zip(*bigrams_series)\n",
    "    bigrams_series = pd.Series(values, idx)\n",
    "    if '_' in bully_label:\n",
    "            bully_label = ' '.join(bully_label.split('_'))\n",
    "    plot_title = bully_label.capitalize()\n",
    "    countplot = bigrams_series.sort_values().plot.barh(color='blue', width=.9, \n",
    "                                                       figsize=(10, 6), title=plot_title)\n",
    "    countplot = countplot.bar_label(countplot.containers[0])"
   ]
  },
  {
   "cell_type": "code",
   "execution_count": null,
   "id": "7d983d0f-75b5-4ac6-8f74-16728930ca4b",
   "metadata": {},
   "outputs": [],
   "source": [
    "plot_bigrams('age')"
   ]
  },
  {
   "cell_type": "code",
   "execution_count": null,
   "id": "f3c06a24-86ce-4a18-8614-21d65c1db989",
   "metadata": {},
   "outputs": [],
   "source": [
    "plot_bigrams('gender')"
   ]
  },
  {
   "cell_type": "code",
   "execution_count": null,
   "id": "45cf80f9-cc55-4619-aa97-f82d37123ff5",
   "metadata": {},
   "outputs": [],
   "source": [
    "plot_bigrams('religion')"
   ]
  },
  {
   "cell_type": "code",
   "execution_count": null,
   "id": "eabe6067-3817-4ec3-91bb-e817e17fb59e",
   "metadata": {},
   "outputs": [],
   "source": [
    "plot_bigrams('ethnicity')"
   ]
  },
  {
   "cell_type": "code",
   "execution_count": null,
   "id": "30673c4d-0e2e-468a-87b4-08724632e335",
   "metadata": {},
   "outputs": [],
   "source": [
    "plot_bigrams('other_cyberbullying')"
   ]
  },
  {
   "cell_type": "code",
   "execution_count": null,
   "id": "215549dd-2388-424e-8d31-e03fdbd51d83",
   "metadata": {},
   "outputs": [],
   "source": [
    "plot_bigrams('not_cyberbullying')"
   ]
  },
  {
   "cell_type": "code",
   "execution_count": null,
   "id": "06642240-6bc8-4526-b963-f9a6e35fbff9",
   "metadata": {},
   "outputs": [],
   "source": [
    "'''Plot trigrams using a function'''\n",
    "def plot_trigrams(bully_label):\n",
    "    tweet_subset = df[df['cyberbullying_type']==bully_label]\n",
    "    tweet_text = tweet_subset.lemmatized_tweets.values\n",
    "    bigrams_series = get_top_n_gram(tweet_text, [3,3], 10)\n",
    "    idx, values = zip(*bigrams_series)\n",
    "    bigrams_series = pd.Series(values, idx)\n",
    "    if '_' in bully_label:\n",
    "            bully_label = ' '.join(bully_label.split('_'))\n",
    "    plot_title = bully_label.capitalize()\n",
    "    countplot = bigrams_series.sort_values().plot.barh(color='blue', width=.9, \n",
    "                                                       figsize=(10, 6), title=plot_title)\n",
    "    countplot = countplot.bar_label(countplot.containers[0])"
   ]
  },
  {
   "cell_type": "code",
   "execution_count": null,
   "id": "e6357df5-2909-460c-9d76-6928d19ba07b",
   "metadata": {},
   "outputs": [],
   "source": [
    "plot_trigrams('age')"
   ]
  },
  {
   "cell_type": "code",
   "execution_count": null,
   "id": "bc4de513-6083-49be-b90a-01bf934d8314",
   "metadata": {},
   "outputs": [],
   "source": [
    "plot_trigrams('religion')"
   ]
  },
  {
   "cell_type": "code",
   "execution_count": null,
   "id": "f0804913-dca2-4c8c-a4bf-6a823f0bfb22",
   "metadata": {},
   "outputs": [],
   "source": [
    "plot_trigrams('gender')"
   ]
  },
  {
   "cell_type": "code",
   "execution_count": null,
   "id": "c13a8c7b-560b-43ab-a8f3-1c50330616eb",
   "metadata": {},
   "outputs": [],
   "source": [
    "plot_trigrams('ethnicity')"
   ]
  },
  {
   "cell_type": "code",
   "execution_count": null,
   "id": "b135b611-59de-43ab-8480-1e7775562b69",
   "metadata": {},
   "outputs": [],
   "source": [
    "plot_trigrams('other_cyberbullying')"
   ]
  },
  {
   "cell_type": "code",
   "execution_count": null,
   "id": "31a29a3a-9cc4-4689-9fd0-1b74fec4d93c",
   "metadata": {},
   "outputs": [],
   "source": [
    "plot_trigrams('not_cyberbullying')"
   ]
  },
  {
   "cell_type": "code",
   "execution_count": null,
   "id": "7b5147da-c505-4979-a5a2-0a78e43c8518",
   "metadata": {
    "tags": []
   },
   "outputs": [],
   "source": [
    "# Top N-gram analysis function with TfidfVectorizer\n",
    "def get_top_n_gram(corpus, ngram_range,n=None):\n",
    "    vec = TfidfVectorizer(ngram_range=ngram_range,stop_words=stopwords).fit(corpus)\n",
    "    bag_of_words = vec.transform(corpus)\n",
    "    sum_words = bag_of_words.sum(axis=0) \n",
    "    words_freq = [(word, sum_words[0, idx]) for word, idx in vec.vocabulary_.items()]\n",
    "    words_freq =sorted(words_freq, key = lambda x: x[1], reverse=True)\n",
    "    return words_freq[:n]"
   ]
  },
  {
   "cell_type": "code",
   "execution_count": null,
   "id": "562f6acb-9e02-4acf-9550-be7c2043cfc3",
   "metadata": {},
   "outputs": [],
   "source": [
    "'''Plot bigrams using a function'''\n",
    "def plot_bigrams(bully_label):\n",
    "    tweet_subset = df[df['cyberbullying_type']==bully_label]\n",
    "    tweet_text = tweet_subset.lemmatized_tweets.values\n",
    "    bigrams_series = get_top_n_gram(tweet_text, [2,2], 10)\n",
    "    idx, values = zip(*bigrams_series)\n",
    "    bigrams_series = pd.Series(values, idx)\n",
    "    if '_' in bully_label:\n",
    "            bully_label = ' '.join(bully_label.split('_'))\n",
    "    plot_title = bully_label.capitalize()\n",
    "    countplot = bigrams_series.sort_values().plot.barh(color='blue', width=.9, \n",
    "                                                       figsize=(10, 6), title=plot_title)\n",
    "    countplot = countplot.bar_label(countplot.containers[0])"
   ]
  },
  {
   "cell_type": "code",
   "execution_count": null,
   "id": "df821c68-3959-4d31-85ce-f0ad23b380d6",
   "metadata": {},
   "outputs": [],
   "source": [
    "plot_bigrams('age')"
   ]
  },
  {
   "cell_type": "code",
   "execution_count": null,
   "id": "09d53d01-e16a-4063-9e33-6763b7ea2735",
   "metadata": {},
   "outputs": [],
   "source": [
    "plot_bigrams('gender')"
   ]
  },
  {
   "cell_type": "code",
   "execution_count": null,
   "id": "af97857f-0a56-4f13-ad6d-6d5f87c9ff1c",
   "metadata": {},
   "outputs": [],
   "source": [
    "plot_bigrams('religion')"
   ]
  },
  {
   "cell_type": "code",
   "execution_count": null,
   "id": "efe819cc-c91d-4f6f-9fa1-4e4faa44e2f4",
   "metadata": {},
   "outputs": [],
   "source": [
    "plot_bigrams('ethnicity')"
   ]
  },
  {
   "cell_type": "code",
   "execution_count": null,
   "id": "4dbab2b0-eb0c-4a79-a294-be1aac423eba",
   "metadata": {},
   "outputs": [],
   "source": [
    "plot_bigrams('other_cyberbullying')"
   ]
  },
  {
   "cell_type": "code",
   "execution_count": null,
   "id": "ce4f97f5-8f55-4568-ad96-f085ae328512",
   "metadata": {},
   "outputs": [],
   "source": [
    "plot_bigrams('not_cyberbullying')"
   ]
  },
  {
   "cell_type": "code",
   "execution_count": null,
   "id": "ae7a3871-67f8-4b4d-8f7a-ed9492abe608",
   "metadata": {},
   "outputs": [],
   "source": [
    "'''Plot trigrams using a function'''\n",
    "def plot_trigrams(bully_label):\n",
    "    tweet_subset = df[df['cyberbullying_type']==bully_label]\n",
    "    tweet_text = tweet_subset.lemmatized_tweets.values\n",
    "    bigrams_series = get_top_n_gram(tweet_text, [3,3], 10)\n",
    "    idx, values = zip(*bigrams_series)\n",
    "    bigrams_series = pd.Series(values, idx)\n",
    "    if '_' in bully_label:\n",
    "            bully_label = ' '.join(bully_label.split('_'))\n",
    "    plot_title = bully_label.capitalize()\n",
    "    countplot = bigrams_series.sort_values().plot.barh(color='blue', width=.9, \n",
    "                                                       figsize=(10, 6), title=plot_title)\n",
    "    countplot = countplot.bar_label(countplot.containers[0])"
   ]
  },
  {
   "cell_type": "code",
   "execution_count": null,
   "id": "a02f0762-e676-44a4-b0e6-055f18b1ed5d",
   "metadata": {},
   "outputs": [],
   "source": [
    "plot_trigrams('age')"
   ]
  },
  {
   "cell_type": "code",
   "execution_count": null,
   "id": "4156ea8f-830e-4a94-934d-518d232672e7",
   "metadata": {},
   "outputs": [],
   "source": [
    "plot_trigrams('religion')"
   ]
  },
  {
   "cell_type": "code",
   "execution_count": null,
   "id": "df5816df-016c-4941-849e-4da45a83bcb5",
   "metadata": {},
   "outputs": [],
   "source": [
    "plot_trigrams('gender')"
   ]
  },
  {
   "cell_type": "code",
   "execution_count": null,
   "id": "3f57cf7e-82dc-4e73-9b1c-dec2751ba62f",
   "metadata": {},
   "outputs": [],
   "source": [
    "plot_trigrams('ethnicity')"
   ]
  },
  {
   "cell_type": "code",
   "execution_count": null,
   "id": "fb163a89-1788-4af3-8376-8ce0f5a83081",
   "metadata": {},
   "outputs": [],
   "source": [
    "plot_trigrams('other_cyberbullying')"
   ]
  },
  {
   "cell_type": "code",
   "execution_count": null,
   "id": "c09a2c4e-e1c9-4690-99dc-2bca0083b2b0",
   "metadata": {},
   "outputs": [],
   "source": [
    "plot_trigrams('not_cyberbullying')"
   ]
  }
 ],
 "metadata": {
  "environment": {
   "kernel": "python3",
   "name": "common-cu110.m94",
   "type": "gcloud",
   "uri": "gcr.io/deeplearning-platform-release/base-cu110:m94"
  },
  "kernelspec": {
   "display_name": "Python 3",
   "language": "python",
   "name": "python3"
  },
  "language_info": {
   "codemirror_mode": {
    "name": "ipython",
    "version": 3
   },
   "file_extension": ".py",
   "mimetype": "text/x-python",
   "name": "python",
   "nbconvert_exporter": "python",
   "pygments_lexer": "ipython3",
   "version": "3.7.12"
  }
 },
 "nbformat": 4,
 "nbformat_minor": 5
}
