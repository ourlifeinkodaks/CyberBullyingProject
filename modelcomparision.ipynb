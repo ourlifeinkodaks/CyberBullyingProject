{
 "cells": [
  {
   "cell_type": "code",
   "execution_count": 1,
   "id": "bd09c7b8-825d-4060-a0cf-3a6d16be769f",
   "metadata": {},
   "outputs": [],
   "source": [
    "import pandas as pd\n",
    "import numpy as np\n",
    "from sklearn.model_selection import train_test_split, cross_val_score, KFold\n",
    "from sklearn.feature_extraction.text import CountVectorizer, TfidfVectorizer\n",
    "from sklearn.metrics import accuracy_score, classification_report\n",
    "from nltk.tokenize import TweetTokenizer\n",
    "import pickle\n",
    "from matplotlib import pyplot as plt\n",
    "import seaborn as sns"
   ]
  },
  {
   "cell_type": "code",
   "execution_count": 2,
   "id": "37413643-85d9-4abd-a7bd-bd070a613663",
   "metadata": {},
   "outputs": [],
   "source": [
    "# read the model dataframe\n",
    "df = pd.read_csv('model_data.csv')"
   ]
  },
  {
   "cell_type": "code",
   "execution_count": 3,
   "id": "84b8b0c5-cb70-4cb3-acbe-1063e2140409",
   "metadata": {},
   "outputs": [],
   "source": [
    "# tokenize tweets using gensim inbuilt library\n",
    "tokenizer = TweetTokenizer(preserve_case=False, \n",
    "                           strip_handles=True,\n",
    "                           reduce_len=True)"
   ]
  },
  {
   "cell_type": "code",
   "execution_count": 4,
   "id": "0879820f-bbbb-4e89-abe1-03ac5c42c1ca",
   "metadata": {},
   "outputs": [],
   "source": [
    "# basic preprocessing steps follows this\n",
    "data = df[['lemmatized_tweets']]\n",
    "target = df[['cyberbullying_type']]"
   ]
  },
  {
   "cell_type": "code",
   "execution_count": 5,
   "id": "ff6afe8f-6dbd-408c-a6de-784949f6ad99",
   "metadata": {},
   "outputs": [],
   "source": [
    "label_codes = {'age':1, \n",
    "               'gender':2, \n",
    "               'ethnicity':3, \n",
    "               'religion':4, \n",
    "               'other_cyberbullying':5, \n",
    "               'not_cyberbullying':0\n",
    "              }\n",
    "target = target.replace({'cyberbullying_type':label_codes})"
   ]
  },
  {
   "cell_type": "code",
   "execution_count": 6,
   "id": "74996bf1-2549-4bff-a585-e1cbc6e672d5",
   "metadata": {},
   "outputs": [],
   "source": [
    "# train/test split\n",
    "X_train, X_test, y_train, y_test = train_test_split(np.array(data['lemmatized_tweets']), \n",
    "                                                    np.array(target['cyberbullying_type']), \n",
    "                                                    test_size=0.30, random_state=42)"
   ]
  },
  {
   "cell_type": "code",
   "execution_count": 7,
   "id": "856b2b80-ac90-4663-b3f2-d6202db8beb6",
   "metadata": {},
   "outputs": [],
   "source": [
    "vec = TfidfVectorizer(use_idf=True, min_df=0.00002, max_df=0.6)\n",
    "train = vec.fit_transform(X_train.astype('U'))\n",
    "test = vec.transform(X_test.astype('U'))"
   ]
  },
  {
   "cell_type": "code",
   "execution_count": 8,
   "id": "0b8dc42d-24fe-43a1-bbd7-09510d908849",
   "metadata": {},
   "outputs": [],
   "source": [
    "# Loading all saved models\n",
    "base_dir = 'model/'\n",
    "dectree = pickle.load(open(base_dir+'DecisionTree/model.sav', 'rb'))\n",
    "rforest = pickle.load(open(base_dir+'RandomForest/model.sav', 'rb'))\n",
    "adaboost = pickle.load(open(base_dir+'AdaBoost/model.sav', 'rb'))\n",
    "xgb = pickle.load(open(base_dir+'XGBoost/model.sav', 'rb'))\n",
    "catboost = pickle.load(open(base_dir+'CatBoost/model.sav', 'rb'))"
   ]
  },
  {
   "cell_type": "code",
   "execution_count": 9,
   "id": "f3f34d33-aa91-4b0d-95c6-83170f89e613",
   "metadata": {},
   "outputs": [],
   "source": [
    "models = []\n",
    "models.append(('Decision Tree', dectree))\n",
    "models.append(('Random Forest', rforest))\n",
    "models.append(('AdaBoost', adaboost))\n",
    "models.append(('XGBoost', xgb))\n",
    "models.append(('CatBoost', catboost))"
   ]
  },
  {
   "cell_type": "code",
   "execution_count": 10,
   "id": "942667a7-5985-45f5-9308-0558b9cd2ce6",
   "metadata": {},
   "outputs": [
    {
     "data": {
      "image/png": "[encoded data removed]",
      "text/plain": [
       "<Figure size 432x288 with 1 Axes>"
      ]
     },
     "metadata": {
      "needs_background": "light"
     },
     "output_type": "display_data"
    }
   ],
   "source": [
    "#Evaluating performance\n",
    "results = []\n",
    "names = []\n",
    "scoring = 'accuracy'\n",
    "\n",
    "for name, model in models:\n",
    "    y_pred = model.predict(test)\n",
    "    results.append(accuracy_score(y_test, y_pred))\n",
    "    names.append(name)\n",
    "\n",
    "plot = plt.barh(names, results)\n",
    "plt.xlabel('Accuracy Scores')\n",
    "plt.ylabel('Models')\n",
    "plt.title('Model Accuracy Comparision')\n",
    "for p in plot.patches:\n",
    "    width = p.get_width()\n",
    "    plt.text(p.get_width()-0.04, p.get_y()+0.55*p.get_height(),\n",
    "             '{:1.2f}'.format(width),\n",
    "             ha='center', va='center')"
   ]
  }
 ],
 "metadata": {
  "environment": {
   "kernel": "python3",
   "name": "common-cu110.m94",
   "type": "gcloud",
   "uri": "gcr.io/deeplearning-platform-release/base-cu110:m94"
  },
  "kernelspec": {
   "display_name": "Python 3",
   "language": "python",
   "name": "python3"
  },
  "language_info": {
   "codemirror_mode": {
    "name": "ipython",
    "version": 3
   },
   "file_extension": ".py",
   "mimetype": "text/x-python",
   "name": "python",
   "nbconvert_exporter": "python",
   "pygments_lexer": "ipython3",
   "version": "3.7.12"
  }
 },
 "nbformat": 4,
 "nbformat_minor": 5
}
