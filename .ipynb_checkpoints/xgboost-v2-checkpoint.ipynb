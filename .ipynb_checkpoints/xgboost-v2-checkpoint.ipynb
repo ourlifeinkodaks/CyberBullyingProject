{
 "cells": [
  {
   "cell_type": "code",
   "execution_count": 1,
   "id": "69ea9ddb-fd00-4fff-ab0a-3dcaaa49b091",
   "metadata": {},
   "outputs": [],
   "source": [
    "import pandas as pd\n",
    "import numpy as np\n",
    "from sklearn.model_selection import train_test_split\n",
    "from sklearn.feature_extraction.text import CountVectorizer, TfidfVectorizer\n",
    "from sklearn.ensemble import RandomForestClassifier\n",
    "from sklearn.metrics import accuracy_score, classification_report\n",
    "from nltk.tokenize import TweetTokenizer\n",
    "import pickle\n",
    "from matplotlib import pyplot as plt\n",
    "import seaborn as sns"
   ]
  },
  {
   "cell_type": "code",
   "execution_count": 2,
   "id": "17232a89-cb54-4f3b-9ae5-f42a3dc7eb1f",
   "metadata": {},
   "outputs": [],
   "source": [
    "# read the model dataframe\n",
    "df = pd.read_csv('model_data.csv')"
   ]
  },
  {
   "cell_type": "markdown",
   "id": "52d2bdce-d6ba-4937-80d1-a0897003e759",
   "metadata": {},
   "source": [
    "#### XGBoost with Word2Vec"
   ]
  },
  {
   "cell_type": "code",
   "execution_count": 3,
   "id": "a334c392-68ce-427e-99cb-eae6741909db",
   "metadata": {},
   "outputs": [],
   "source": [
    "# tokenize tweets using gensim inbuilt library\n",
    "from gensim.models import Word2Vec\n",
    "tokenizer = TweetTokenizer(preserve_case=False, \n",
    "                           strip_handles=True,\n",
    "                           reduce_len=True)"
   ]
  },
  {
   "cell_type": "code",
   "execution_count": 4,
   "id": "35d98413-f5b9-4276-84ac-3ba0a80163c9",
   "metadata": {},
   "outputs": [],
   "source": [
    "class MeanEmbeddingVectorizer():\n",
    "    def __init__(self, word2vec):\n",
    "        self.word2vec = word2vec\n",
    "        self.dim = len(next(iter(word2vec.values())))\n",
    "\n",
    "    def transform(self, X):\n",
    "        return np.array([np.mean([self.word2vec[w] for w in words if w in self.word2vec] or [np.zeros(self.dim)], axis=0) for words in X])\n",
    "    \n",
    "    def fit(self, X, y):\n",
    "        return self\n",
    "\n",
    "\n",
    "model = Word2Vec(df[\"lemmatized_tweets\"], min_count=1)\n",
    "w2v = dict(zip(model.wv.index_to_key, model.wv.vectors)) \n",
    "modelw = MeanEmbeddingVectorizer(w2v)"
   ]
  },
  {
   "cell_type": "code",
   "execution_count": 5,
   "id": "75663ed6-a1ac-41e9-a725-03242c8d11cd",
   "metadata": {},
   "outputs": [],
   "source": [
    "data = df[['lemmatized_tweets']]\n",
    "target = df[['cyberbullying_type']]"
   ]
  },
  {
   "cell_type": "code",
   "execution_count": 6,
   "id": "760ba852-f72b-497b-bbb4-7b4d05cd7426",
   "metadata": {},
   "outputs": [],
   "source": [
    "label_codes = {'age':1, \n",
    "               'gender':2, \n",
    "               'ethnicity':3, \n",
    "               'religion':4, \n",
    "               'other_cyberbullying':5, \n",
    "               'not_cyberbullying':0\n",
    "              }\n",
    "target = target.replace({'cyberbullying_type':label_codes})"
   ]
  },
  {
   "cell_type": "code",
   "execution_count": 7,
   "id": "1ad01bdd-e929-458b-9678-a9e35b65234b",
   "metadata": {},
   "outputs": [],
   "source": [
    "df[\"tokenized\"] = [tokenizer.tokenize(i) for i in df['lemmatized_tweets']]\n",
    "model = Word2Vec(df[\"tokenized\"], min_count=1)\n",
    "w2v = dict(zip(model.wv.index_to_key, model.wv.vectors)) \n",
    "modelw = MeanEmbeddingVectorizer(w2v)"
   ]
  },
  {
   "cell_type": "code",
   "execution_count": 8,
   "id": "57ebde0a-5bfd-4682-9a6b-8f772d91f7f5",
   "metadata": {},
   "outputs": [],
   "source": [
    "X_train, X_test, y_train, y_test = train_test_split(df[\"tokenized\"],\n",
    "                                                    np.array(target['cyberbullying_type']),\n",
    "                                                    test_size=0.3,\n",
    "                                                    shuffle=True, \n",
    "                                                    stratify=df[\"cyberbullying_type\"], \n",
    "                                                    random_state=32)"
   ]
  },
  {
   "cell_type": "code",
   "execution_count": 9,
   "id": "2e335ca9-177f-45ac-b2c6-ac8a9f833c1e",
   "metadata": {},
   "outputs": [],
   "source": [
    "# Convert train and test sets to vectors\n",
    "X_train_vectors_w2v = modelw.transform(X_train)\n",
    "X_test_vectors_w2v = modelw.transform(X_test)"
   ]
  },
  {
   "cell_type": "code",
   "execution_count": 10,
   "id": "2be53064-753e-47d0-81a2-8274346abf9a",
   "metadata": {},
   "outputs": [
    {
     "data": {
      "text/plain": [
       "XGBClassifier(base_score=0.5, booster='gbtree', callbacks=None,\n",
       "              colsample_bylevel=1, colsample_bynode=1, colsample_bytree=0.6,\n",
       "              early_stopping_rounds=None, enable_categorical=False,\n",
       "              eval_metric=None, gamma=0.3, gpu_id=-1, grow_policy='depthwise',\n",
       "              importance_type=None, interaction_constraints='',\n",
       "              learning_rate=0.300000012, max_bin=256, max_cat_to_onehot=4,\n",
       "              max_delta_step=0, max_depth=4, max_leaves=0, min_child_weight=2,\n",
       "              missing=nan, monotone_constraints='()', n_estimators=100,\n",
       "              n_jobs=0, num_parallel_tree=1, objective='multi:softprob',\n",
       "              predictor='auto', random_state=0, reg_alpha=0.1, ...)"
      ]
     },
     "execution_count": 10,
     "metadata": {},
     "output_type": "execute_result"
    }
   ],
   "source": [
    "from xgboost import XGBClassifier\n",
    "\n",
    "model = XGBClassifier(\n",
    "    use_label_encoder=False,\n",
    "    max_depth=4,\n",
    "    min_child_weight=2,\n",
    "    gamma=0.3,\n",
    "    subsample=0.7,\n",
    "    colsample_bytree=0.6,\n",
    "    reg_alpha=0.1,\n",
    ")\n",
    "\n",
    "model.fit(X_train_vectors_w2v, y_train)"
   ]
  },
  {
   "cell_type": "code",
   "execution_count": 12,
   "id": "a1917c9b-6eaa-4a71-8012-5b4186b99880",
   "metadata": {},
   "outputs": [
    {
     "name": "stdout",
     "output_type": "stream",
     "text": [
      "Accuracy: 0.7569297875334178\n"
     ]
    },
    {
     "data": {
      "text/html": [
       "<div>\n",
       "<style scoped>\n",
       "    .dataframe tbody tr th:only-of-type {\n",
       "        vertical-align: middle;\n",
       "    }\n",
       "\n",
       "    .dataframe tbody tr th {\n",
       "        vertical-align: top;\n",
       "    }\n",
       "\n",
       "    .dataframe thead th {\n",
       "        text-align: right;\n",
       "    }\n",
       "</style>\n",
       "<table border=\"1\" class=\"dataframe\">\n",
       "  <thead>\n",
       "    <tr style=\"text-align: right;\">\n",
       "      <th></th>\n",
       "      <th>cuberbullying_type</th>\n",
       "      <th>precision</th>\n",
       "      <th>recall</th>\n",
       "      <th>f1-score</th>\n",
       "      <th>support</th>\n",
       "    </tr>\n",
       "  </thead>\n",
       "  <tbody>\n",
       "    <tr>\n",
       "      <th>0</th>\n",
       "      <td>not_cyberbulling</td>\n",
       "      <td>0.487805</td>\n",
       "      <td>0.475786</td>\n",
       "      <td>0.481720</td>\n",
       "      <td>2354.00000</td>\n",
       "    </tr>\n",
       "    <tr>\n",
       "      <th>1</th>\n",
       "      <td>age</td>\n",
       "      <td>0.948887</td>\n",
       "      <td>0.959967</td>\n",
       "      <td>0.954395</td>\n",
       "      <td>2398.00000</td>\n",
       "    </tr>\n",
       "    <tr>\n",
       "      <th>2</th>\n",
       "      <td>gender</td>\n",
       "      <td>0.856598</td>\n",
       "      <td>0.753878</td>\n",
       "      <td>0.801963</td>\n",
       "      <td>2385.00000</td>\n",
       "    </tr>\n",
       "    <tr>\n",
       "      <th>3</th>\n",
       "      <td>ethnicity</td>\n",
       "      <td>0.895191</td>\n",
       "      <td>0.912060</td>\n",
       "      <td>0.903547</td>\n",
       "      <td>2388.00000</td>\n",
       "    </tr>\n",
       "    <tr>\n",
       "      <th>4</th>\n",
       "      <td>religion</td>\n",
       "      <td>0.893018</td>\n",
       "      <td>0.911630</td>\n",
       "      <td>0.902228</td>\n",
       "      <td>2399.00000</td>\n",
       "    </tr>\n",
       "    <tr>\n",
       "      <th>5</th>\n",
       "      <td>other_cyberbullying</td>\n",
       "      <td>0.467543</td>\n",
       "      <td>0.512664</td>\n",
       "      <td>0.489065</td>\n",
       "      <td>2290.00000</td>\n",
       "    </tr>\n",
       "    <tr>\n",
       "      <th>accuracy</th>\n",
       "      <td></td>\n",
       "      <td>0.756930</td>\n",
       "      <td>0.756930</td>\n",
       "      <td>0.756930</td>\n",
       "      <td>0.75693</td>\n",
       "    </tr>\n",
       "    <tr>\n",
       "      <th>macro avg</th>\n",
       "      <td></td>\n",
       "      <td>0.758174</td>\n",
       "      <td>0.754331</td>\n",
       "      <td>0.755486</td>\n",
       "      <td>14214.00000</td>\n",
       "    </tr>\n",
       "    <tr>\n",
       "      <th>weighted avg</th>\n",
       "      <td></td>\n",
       "      <td>0.761042</td>\n",
       "      <td>0.756930</td>\n",
       "      <td>0.758222</td>\n",
       "      <td>14214.00000</td>\n",
       "    </tr>\n",
       "  </tbody>\n",
       "</table>\n",
       "</div>"
      ],
      "text/plain": [
       "               cuberbullying_type  precision    recall  f1-score      support\n",
       "0                not_cyberbulling   0.487805  0.475786  0.481720   2354.00000\n",
       "1                             age   0.948887  0.959967  0.954395   2398.00000\n",
       "2                          gender   0.856598  0.753878  0.801963   2385.00000\n",
       "3                       ethnicity   0.895191  0.912060  0.903547   2388.00000\n",
       "4                        religion   0.893018  0.911630  0.902228   2399.00000\n",
       "5             other_cyberbullying   0.467543  0.512664  0.489065   2290.00000\n",
       "accuracy                            0.756930  0.756930  0.756930      0.75693\n",
       "macro avg                           0.758174  0.754331  0.755486  14214.00000\n",
       "weighted avg                        0.761042  0.756930  0.758222  14214.00000"
      ]
     },
     "execution_count": 12,
     "metadata": {},
     "output_type": "execute_result"
    }
   ],
   "source": [
    "predictions = model.predict(X_test_vectors_w2v)\n",
    "print(f\"Accuracy: {accuracy_score(y_test, predictions)}\")\n",
    "score2=accuracy_score(y_test, predictions)\n",
    "report = classification_report(y_test, predictions, output_dict=True)\n",
    "class_report = pd.DataFrame(report).transpose()\n",
    "class_report['cuberbullying_type'] = ['not_cyberbulling', 'age', 'gender',\n",
    "                                     'ethnicity', 'religion', 'other_cyberbullying', '', '', '']\n",
    "class_report = class_report[['cuberbullying_type', 'precision', 'recall',\n",
    "                            'f1-score', 'support']]\n",
    "class_report"
   ]
  },
  {
   "cell_type": "markdown",
   "id": "7b43c9b1-6698-4379-8f36-7423488f96cc",
   "metadata": {},
   "source": [
    "#### XGBoost with TFIDF"
   ]
  },
  {
   "cell_type": "code",
   "execution_count": 13,
   "id": "5ef37a2e-106a-404b-b20b-c5b717f7439b",
   "metadata": {},
   "outputs": [],
   "source": [
    "vec = TfidfVectorizer(use_idf=True, min_df=0.00002, max_df=0.6)\n",
    "train = vec.fit_transform(X_train.astype('U'))\n",
    "test = vec.transform(X_test.astype('U'))"
   ]
  },
  {
   "cell_type": "code",
   "execution_count": 14,
   "id": "2ab1385a-beb6-490f-89d4-44fbda003ae6",
   "metadata": {},
   "outputs": [
    {
     "data": {
      "text/plain": [
       "XGBClassifier(base_score=0.5, booster='gbtree', callbacks=None,\n",
       "              colsample_bylevel=1, colsample_bynode=1, colsample_bytree=0.6,\n",
       "              early_stopping_rounds=None, enable_categorical=False,\n",
       "              eval_metric=None, gamma=0.3, gpu_id=-1, grow_policy='depthwise',\n",
       "              importance_type=None, interaction_constraints='',\n",
       "              learning_rate=0.300000012, max_bin=256, max_cat_to_onehot=4,\n",
       "              max_delta_step=0, max_depth=4, max_leaves=0, min_child_weight=2,\n",
       "              missing=nan, monotone_constraints='()', n_estimators=100,\n",
       "              n_jobs=0, num_parallel_tree=1, objective='multi:softprob',\n",
       "              predictor='auto', random_state=0, reg_alpha=0.1, ...)"
      ]
     },
     "execution_count": 14,
     "metadata": {},
     "output_type": "execute_result"
    }
   ],
   "source": [
    "model.fit(train, y_train)"
   ]
  },
  {
   "cell_type": "code",
   "execution_count": 16,
   "id": "242f4134-8b87-4bfb-86b3-e434495f94d6",
   "metadata": {},
   "outputs": [],
   "source": [
    "y_pred = model.predict(test)\n"
   ]
  },
  {
   "cell_type": "code",
   "execution_count": 17,
   "id": "d25778b7-3875-4c37-9051-546994f86377",
   "metadata": {},
   "outputs": [
    {
     "data": {
      "text/html": [
       "<div>\n",
       "<style scoped>\n",
       "    .dataframe tbody tr th:only-of-type {\n",
       "        vertical-align: middle;\n",
       "    }\n",
       "\n",
       "    .dataframe tbody tr th {\n",
       "        vertical-align: top;\n",
       "    }\n",
       "\n",
       "    .dataframe thead th {\n",
       "        text-align: right;\n",
       "    }\n",
       "</style>\n",
       "<table border=\"1\" class=\"dataframe\">\n",
       "  <thead>\n",
       "    <tr style=\"text-align: right;\">\n",
       "      <th></th>\n",
       "      <th>cuberbullying_type</th>\n",
       "      <th>precision</th>\n",
       "      <th>recall</th>\n",
       "      <th>f1-score</th>\n",
       "      <th>support</th>\n",
       "    </tr>\n",
       "  </thead>\n",
       "  <tbody>\n",
       "    <tr>\n",
       "      <th>0</th>\n",
       "      <td>not_cyberbulling</td>\n",
       "      <td>0.555913</td>\n",
       "      <td>0.661003</td>\n",
       "      <td>0.603920</td>\n",
       "      <td>2354.000000</td>\n",
       "    </tr>\n",
       "    <tr>\n",
       "      <th>1</th>\n",
       "      <td>age</td>\n",
       "      <td>0.986870</td>\n",
       "      <td>0.971643</td>\n",
       "      <td>0.979197</td>\n",
       "      <td>2398.000000</td>\n",
       "    </tr>\n",
       "    <tr>\n",
       "      <th>2</th>\n",
       "      <td>gender</td>\n",
       "      <td>0.916436</td>\n",
       "      <td>0.832285</td>\n",
       "      <td>0.872336</td>\n",
       "      <td>2385.000000</td>\n",
       "    </tr>\n",
       "    <tr>\n",
       "      <th>3</th>\n",
       "      <td>ethnicity</td>\n",
       "      <td>0.990340</td>\n",
       "      <td>0.987437</td>\n",
       "      <td>0.988887</td>\n",
       "      <td>2388.000000</td>\n",
       "    </tr>\n",
       "    <tr>\n",
       "      <th>4</th>\n",
       "      <td>religion</td>\n",
       "      <td>0.965032</td>\n",
       "      <td>0.943310</td>\n",
       "      <td>0.954047</td>\n",
       "      <td>2399.000000</td>\n",
       "    </tr>\n",
       "    <tr>\n",
       "      <th>5</th>\n",
       "      <td>other_cyberbullying</td>\n",
       "      <td>0.599907</td>\n",
       "      <td>0.566376</td>\n",
       "      <td>0.582659</td>\n",
       "      <td>2290.000000</td>\n",
       "    </tr>\n",
       "    <tr>\n",
       "      <th>accuracy</th>\n",
       "      <td></td>\n",
       "      <td>0.829394</td>\n",
       "      <td>0.829394</td>\n",
       "      <td>0.829394</td>\n",
       "      <td>0.829394</td>\n",
       "    </tr>\n",
       "    <tr>\n",
       "      <th>macro avg</th>\n",
       "      <td></td>\n",
       "      <td>0.835750</td>\n",
       "      <td>0.827009</td>\n",
       "      <td>0.830174</td>\n",
       "      <td>14214.000000</td>\n",
       "    </tr>\n",
       "    <tr>\n",
       "      <th>weighted avg</th>\n",
       "      <td></td>\n",
       "      <td>0.838234</td>\n",
       "      <td>0.829394</td>\n",
       "      <td>0.832614</td>\n",
       "      <td>14214.000000</td>\n",
       "    </tr>\n",
       "  </tbody>\n",
       "</table>\n",
       "</div>"
      ],
      "text/plain": [
       "               cuberbullying_type  precision    recall  f1-score       support\n",
       "0                not_cyberbulling   0.555913  0.661003  0.603920   2354.000000\n",
       "1                             age   0.986870  0.971643  0.979197   2398.000000\n",
       "2                          gender   0.916436  0.832285  0.872336   2385.000000\n",
       "3                       ethnicity   0.990340  0.987437  0.988887   2388.000000\n",
       "4                        religion   0.965032  0.943310  0.954047   2399.000000\n",
       "5             other_cyberbullying   0.599907  0.566376  0.582659   2290.000000\n",
       "accuracy                            0.829394  0.829394  0.829394      0.829394\n",
       "macro avg                           0.835750  0.827009  0.830174  14214.000000\n",
       "weighted avg                        0.838234  0.829394  0.832614  14214.000000"
      ]
     },
     "execution_count": 17,
     "metadata": {},
     "output_type": "execute_result"
    }
   ],
   "source": [
    "# classification report for multiclass classification\n",
    "report = classification_report(y_test, y_pred, output_dict=True)\n",
    "class_report = pd.DataFrame(report).transpose()\n",
    "class_report['cuberbullying_type'] = ['not_cyberbulling', 'age', 'gender',\n",
    "                                     'ethnicity', 'religion', 'other_cyberbullying', '', '', '']\n",
    "class_report = class_report[['cuberbullying_type', 'precision', 'recall',\n",
    "                            'f1-score', 'support']]\n",
    "class_report"
   ]
  },
  {
   "cell_type": "code",
   "execution_count": 18,
   "id": "7315f1b7-5b5d-418a-bb7a-2be844215bbd",
   "metadata": {},
   "outputs": [],
   "source": [
    "# Serialize and save the model\n",
    "filename = 'model/XGBoost/model.sav'\n",
    "pickle.dump(model, open(filename, 'wb'))"
   ]
  },
  {
   "cell_type": "code",
   "execution_count": null,
   "id": "a0e3482d-407c-41ee-97fd-2338d54ab5f3",
   "metadata": {},
   "outputs": [],
   "source": []
  }
 ],
 "metadata": {
  "environment": {
   "kernel": "python3",
   "name": "common-cu110.m94",
   "type": "gcloud",
   "uri": "gcr.io/deeplearning-platform-release/base-cu110:m94"
  },
  "kernelspec": {
   "display_name": "Python 3",
   "language": "python",
   "name": "python3"
  },
  "language_info": {
   "codemirror_mode": {
    "name": "ipython",
    "version": 3
   },
   "file_extension": ".py",
   "mimetype": "text/x-python",
   "name": "python",
   "nbconvert_exporter": "python",
   "pygments_lexer": "ipython3",
   "version": "3.7.12"
  }
 },
 "nbformat": 4,
 "nbformat_minor": 5
}
