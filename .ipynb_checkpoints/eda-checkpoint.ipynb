{
 "cells": [
  {
   "cell_type": "code",
   "execution_count": 1,
   "id": "24b27ea9-e709-4d52-925a-42da13d070cc",
   "metadata": {},
   "outputs": [],
   "source": [
    "import pandas as pd\n",
    "import nltk\n",
    "from nltk.corpus import stopwords\n",
    "stopwords = nltk.corpus.stopwords.words('english')\n",
    "import spacy\n",
    "import re\n",
    "import matplotlib.pyplot as plt\n",
    "from wordcloud import WordCloud"
   ]
  },
  {
   "cell_type": "code",
   "execution_count": 2,
   "id": "c1d5c617-6430-42c6-bd25-4a6e74fccf9c",
   "metadata": {},
   "outputs": [],
   "source": [
    "# Data Exploration and Preprocessing/Preparation"
   ]
  },
  {
   "cell_type": "code",
   "execution_count": 3,
   "id": "dccaf29a-9177-49ae-a689-40fa2b603c14",
   "metadata": {},
   "outputs": [],
   "source": [
    "df = pd.read_csv('cyberbullying_tweets.csv')"
   ]
  },
  {
   "cell_type": "code",
   "execution_count": 4,
   "id": "309de9a9-b9d0-4519-b9e9-eeac23ac3c29",
   "metadata": {},
   "outputs": [
    {
     "data": {
      "text/html": [
       "<div>\n",
       "<style scoped>\n",
       "    .dataframe tbody tr th:only-of-type {\n",
       "        vertical-align: middle;\n",
       "    }\n",
       "\n",
       "    .dataframe tbody tr th {\n",
       "        vertical-align: top;\n",
       "    }\n",
       "\n",
       "    .dataframe thead th {\n",
       "        text-align: right;\n",
       "    }\n",
       "</style>\n",
       "<table border=\"1\" class=\"dataframe\">\n",
       "  <thead>\n",
       "    <tr style=\"text-align: right;\">\n",
       "      <th></th>\n",
       "      <th>tweet_text</th>\n",
       "      <th>cyberbullying_type</th>\n",
       "    </tr>\n",
       "  </thead>\n",
       "  <tbody>\n",
       "    <tr>\n",
       "      <th>0</th>\n",
       "      <td>In other words #katandandre, your food was cra...</td>\n",
       "      <td>not_cyberbullying</td>\n",
       "    </tr>\n",
       "    <tr>\n",
       "      <th>1</th>\n",
       "      <td>Why is #aussietv so white? #MKR #theblock #ImA...</td>\n",
       "      <td>not_cyberbullying</td>\n",
       "    </tr>\n",
       "    <tr>\n",
       "      <th>2</th>\n",
       "      <td>@XochitlSuckkks a classy whore? Or more red ve...</td>\n",
       "      <td>not_cyberbullying</td>\n",
       "    </tr>\n",
       "    <tr>\n",
       "      <th>3</th>\n",
       "      <td>@Jason_Gio meh. :P  thanks for the heads up, b...</td>\n",
       "      <td>not_cyberbullying</td>\n",
       "    </tr>\n",
       "    <tr>\n",
       "      <th>4</th>\n",
       "      <td>@RudhoeEnglish This is an ISIS account pretend...</td>\n",
       "      <td>not_cyberbullying</td>\n",
       "    </tr>\n",
       "  </tbody>\n",
       "</table>\n",
       "</div>"
      ],
      "text/plain": [
       "                                          tweet_text cyberbullying_type\n",
       "0  In other words #katandandre, your food was cra...  not_cyberbullying\n",
       "1  Why is #aussietv so white? #MKR #theblock #ImA...  not_cyberbullying\n",
       "2  @XochitlSuckkks a classy whore? Or more red ve...  not_cyberbullying\n",
       "3  @Jason_Gio meh. :P  thanks for the heads up, b...  not_cyberbullying\n",
       "4  @RudhoeEnglish This is an ISIS account pretend...  not_cyberbullying"
      ]
     },
     "execution_count": 4,
     "metadata": {},
     "output_type": "execute_result"
    }
   ],
   "source": [
    "df.head()"
   ]
  },
  {
   "cell_type": "code",
   "execution_count": 5,
   "id": "f521e1af-cb34-4571-8572-062ed804e9f7",
   "metadata": {},
   "outputs": [
    {
     "data": {
      "text/plain": [
       "religion               7998\n",
       "age                    7992\n",
       "gender                 7973\n",
       "ethnicity              7961\n",
       "not_cyberbullying      7945\n",
       "other_cyberbullying    7823\n",
       "Name: cyberbullying_type, dtype: int64"
      ]
     },
     "execution_count": 5,
     "metadata": {},
     "output_type": "execute_result"
    }
   ],
   "source": [
    "df.cyberbullying_type.value_counts()"
   ]
  },
  {
   "cell_type": "code",
   "execution_count": 6,
   "id": "3dfc4f87-13f8-4f88-bd9d-fe876183b49f",
   "metadata": {
    "tags": []
   },
   "outputs": [],
   "source": [
    "'''Function to clean the tweets for futher analyses'''\n",
    "def clean_tweet(tweet):\n",
    "    TEXT_CLEANING_RE = \"@\\S+|https?:\\S+|http?:\\S|[^A-Za-z0-9]+\"\n",
    "    stopwords.extend(['rt', 'mkr', 'didn', 'bc', 'n', 'm', 'im', 'll', 'y', \n",
    "                      've', 'u', 'ur', 'don', 't', 's'])\n",
    "    clean_text = re.sub(TEXT_CLEANING_RE, ' ', tweet)\n",
    "    clean_text = clean_text.lower()\n",
    "    clean_text = ' '.join([word for word in nltk.word_tokenize(clean_text) \n",
    "                           if word not in stopwords])\n",
    "    return clean_text"
   ]
  },
  {
   "cell_type": "raw",
   "id": "881b2dab-e230-454a-bab6-6f62826b744b",
   "metadata": {},
   "source": [
    "tweet = '''Why is #aussietv so white? #MKR #theblock #ImACelebrityAU #today #sunrise #studio10 #Neighbours #WonderlandTen #etc'''\n",
    "print(clean_tweet(tweet))"
   ]
  },
  {
   "cell_type": "code",
   "execution_count": null,
   "id": "54ac6b6c-8aeb-4d8b-a0f4-3c523b7f4730",
   "metadata": {},
   "outputs": [],
   "source": [
    "df['clean_tweets'] = df['tweet_text'].apply(clean_tweet)"
   ]
  },
  {
   "cell_type": "code",
   "execution_count": null,
   "id": "ee98fb1f-345b-4d6a-b0a1-b2054fddc6f2",
   "metadata": {},
   "outputs": [],
   "source": [
    "df.head()"
   ]
  },
  {
   "cell_type": "code",
   "execution_count": null,
   "id": "f94e0a1e-700c-4765-8c51-1b2434c29108",
   "metadata": {},
   "outputs": [],
   "source": [
    "df.to_csv('processed_tweets.csv', index=False)"
   ]
  },
  {
   "cell_type": "code",
   "execution_count": null,
   "id": "d6fce369-de38-46c2-9059-cc7b4ea66e24",
   "metadata": {},
   "outputs": [],
   "source": [
    "'''Word Lemmatization'''\n",
    "from nltk.stem import WordNetLemmatizer\n",
    "lemmatizer = WordNetLemmatizer()\n",
    "def lemmatize_tweets(tweet):\n",
    "    lemmatized_tweets = ' '.join([lemmatizer.lemmatize(word) for word in tweet.split(' ')])\n",
    "    return lemmatized_tweets"
   ]
  },
  {
   "cell_type": "code",
   "execution_count": null,
   "id": "177f9bb9-675a-4918-bfce-97abb0786751",
   "metadata": {},
   "outputs": [],
   "source": [
    "df['lemmatized_tweets'] = df['clean_tweets'].apply(lemmatize_tweets)"
   ]
  },
  {
   "cell_type": "code",
   "execution_count": null,
   "id": "131875d3-a3ed-42bb-adf2-de2d1da94a5f",
   "metadata": {},
   "outputs": [],
   "source": [
    "df.head()"
   ]
  },
  {
   "cell_type": "code",
   "execution_count": null,
   "id": "486ae0c6-b4bb-49e1-bbb6-c9420ef44c3d",
   "metadata": {},
   "outputs": [],
   "source": [
    "# WordCloud Analysis by type of Cyberbullying"
   ]
  },
  {
   "cell_type": "code",
   "execution_count": null,
   "id": "1f3610ca-2b0a-490c-954b-c32f9414ea11",
   "metadata": {},
   "outputs": [],
   "source": [
    "plt.figure(figsize=(20,10))\n",
    "subset1 = df[df['cyberbullying_type']=='gender']\n",
    "text_gender = subset1.lemmatized_tweets.values\n",
    "cloud1 = WordCloud(background_color='black',colormap=\"Dark2\",collocations=False,\n",
    "                   width=2000,height=1000).generate(\" \".join(text_gender))\n",
    "plt.axis('off')\n",
    "plt.title(\"Gender\",fontsize=40)\n",
    "plt.imshow(cloud1)"
   ]
  },
  {
   "cell_type": "code",
   "execution_count": null,
   "id": "54dc6fbd-2756-4141-a8c5-29344585775b",
   "metadata": {},
   "outputs": [],
   "source": [
    "plt.figure(figsize=(20,10))\n",
    "subset1 = df[df['cyberbullying_type']=='religion']\n",
    "text_gender = subset1.lemmatized_tweets.values\n",
    "cloud1 = WordCloud(background_color='black',colormap=\"Dark2\",collocations=False,\n",
    "                   width=2000,height=1000).generate(\" \".join(text_gender))\n",
    "plt.axis('off')\n",
    "plt.title(\"Religion\",fontsize=40)\n",
    "plt.imshow(cloud1)"
   ]
  },
  {
   "cell_type": "code",
   "execution_count": null,
   "id": "ab45349b-390e-4282-b4a0-765c84cec633",
   "metadata": {},
   "outputs": [],
   "source": [
    "plt.figure(figsize=(20,10))\n",
    "subset1 = df[df['cyberbullying_type']=='age']\n",
    "text_gender = subset1.lemmatized_tweets.values\n",
    "cloud1 = WordCloud(background_color='black',colormap=\"Dark2\",collocations=False, \n",
    "                 width=2000,height=1000).generate(\" \".join(text_gender))\n",
    "plt.axis('off')\n",
    "plt.title(\"Age\",fontsize=40)\n",
    "plt.imshow(cloud1)"
   ]
  },
  {
   "cell_type": "code",
   "execution_count": null,
   "id": "f4a21788-ee1a-4aac-8200-18afffc0aea8",
   "metadata": {},
   "outputs": [],
   "source": [
    "plt.figure(figsize=(20,10))\n",
    "subset1 = df[df['cyberbullying_type']=='ethnicity']\n",
    "text_gender = subset1.lemmatized_tweets.values\n",
    "cloud1 = WordCloud(background_color='black',colormap=\"Dark2\",collocations=False,\n",
    "                   width=2000,height=1000).generate(\" \".join(text_gender))\n",
    "plt.axis('off')\n",
    "plt.title(\"Ethnicity\",fontsize=40)\n",
    "plt.imshow(cloud1)"
   ]
  },
  {
   "cell_type": "code",
   "execution_count": null,
   "id": "88ed1c51-bd34-4b4b-b8ce-42adf9d1ccfc",
   "metadata": {},
   "outputs": [],
   "source": [
    "plt.figure(figsize=(20,10))\n",
    "subset1 = df[df['cyberbullying_type']=='other_cyberbullying']\n",
    "text_gender = subset1.lemmatized_tweets.values\n",
    "cloud1 = WordCloud(background_color='black',colormap=\"Dark2\",collocations=False,\n",
    "                   width=2000,height=1000).generate(\" \".join(text_gender))\n",
    "plt.axis('off')\n",
    "plt.title(\"Other Cyberbullying\",fontsize=40)\n",
    "plt.imshow(cloud1)"
   ]
  },
  {
   "cell_type": "code",
   "execution_count": null,
   "id": "7957a7c5-b191-4046-9f9f-ec7e8e331695",
   "metadata": {},
   "outputs": [],
   "source": [
    "plt.figure(figsize=(20,10))\n",
    "subset1 = df[df['cyberbullying_type']=='not_cyberbullying']\n",
    "text_gender = subset1.lemmatized_tweets.values\n",
    "cloud1 = WordCloud(background_color='black',colormap=\"Dark2\",collocations=False,\n",
    "                   width=2000,height=1000).generate(\" \".join(text_gender))\n",
    "plt.axis('off')\n",
    "plt.title(\"Not Cyberbullying\",fontsize=40)\n",
    "plt.imshow(cloud1)"
   ]
  },
  {
   "cell_type": "code",
   "execution_count": null,
   "id": "f58285f4-3e67-46b4-8b30-52cb9a54be0c",
   "metadata": {},
   "outputs": [],
   "source": []
  }
 ],
 "metadata": {
  "environment": {
   "kernel": "python3",
   "name": "common-cpu.m93",
   "type": "gcloud",
   "uri": "gcr.io/deeplearning-platform-release/base-cpu:m93"
  },
  "kernelspec": {
   "display_name": "Python 3",
   "language": "python",
   "name": "python3"
  },
  "language_info": {
   "codemirror_mode": {
    "name": "ipython",
    "version": 3
   },
   "file_extension": ".py",
   "mimetype": "text/x-python",
   "name": "python",
   "nbconvert_exporter": "python",
   "pygments_lexer": "ipython3",
   "version": "3.7.12"
  }
 },
 "nbformat": 4,
 "nbformat_minor": 5
}
