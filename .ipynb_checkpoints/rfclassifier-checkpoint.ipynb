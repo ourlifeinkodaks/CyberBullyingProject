{
 "cells": [
  {
   "cell_type": "code",
   "execution_count": null,
   "id": "bc691d4a-2bf7-459f-bdf0-8d389932f3fc",
   "metadata": {},
   "outputs": [],
   "source": [
    "'''Random Forest Classifier Classifier w/o Polarity Feature'''\n",
    "import pandas as pd\n",
    "import numpy as np\n",
    "from sklearn.model_selection import train_test_split\n",
    "from sklearn.feature_extraction.text import CountVectorizer, TfidfVectorizer\n",
    "from sklearn.ensemble import RandomForestClassifier\n",
    "from sklearn.metrics import accuracy_score, classification_report\n",
    "import pickle"
   ]
  },
  {
   "cell_type": "code",
   "execution_count": null,
   "id": "1104e401-ec11-4498-a1f5-98fbd0511b1e",
   "metadata": {},
   "outputs": [],
   "source": [
    "# read the model dataframe\n",
    "df = pd.read_csv('model_data.csv')"
   ]
  },
  {
   "cell_type": "code",
   "execution_count": null,
   "id": "ccbdcba0-01ef-41b5-a847-400677dee143",
   "metadata": {},
   "outputs": [],
   "source": [
    "df.head()"
   ]
  },
  {
   "cell_type": "code",
   "execution_count": null,
   "id": "102f7e1f-9c89-40e8-a0a6-00c864456e13",
   "metadata": {},
   "outputs": [],
   "source": [
    "data = df[['lemmatized_tweets']]\n",
    "target = df[['cyberbullying_type']]"
   ]
  },
  {
   "cell_type": "code",
   "execution_count": null,
   "id": "f1ff896c-2050-4ef3-ae4e-c96d7ea50ae1",
   "metadata": {},
   "outputs": [],
   "source": [
    "label_codes = {'age':1, \n",
    "               'gender':2, \n",
    "               'ethnicity':3, \n",
    "               'religion':4, \n",
    "               'other_cyberbullying':5, \n",
    "               'not_cyberbullying':0\n",
    "              }"
   ]
  },
  {
   "cell_type": "code",
   "execution_count": null,
   "id": "f7f74294-dded-4324-bdae-fb96ff13ed68",
   "metadata": {},
   "outputs": [],
   "source": [
    "# encoding target labels\n",
    "target = target.replace({'cyberbullying_type':label_codes})"
   ]
  },
  {
   "cell_type": "markdown",
   "id": "2a15107f-fc8d-42b1-b038-a4a5c6183213",
   "metadata": {},
   "source": [
    "vec = TfidfVectorizer()\n",
    "feats = vec.fit_transform(data['lemmatized_tweets'].astype('U'))"
   ]
  },
  {
   "cell_type": "code",
   "execution_count": null,
   "id": "b3c8b7b7-fb61-4b2e-9a62-fc931a559c08",
   "metadata": {},
   "outputs": [],
   "source": [
    "data.head()"
   ]
  },
  {
   "cell_type": "code",
   "execution_count": null,
   "id": "ad869fe3-8f34-468a-bd4a-9dae28b73094",
   "metadata": {},
   "outputs": [],
   "source": [
    "# train/test split\n",
    "X_train, X_test, y_train, y_test = train_test_split(np.array(data['lemmatized_tweets']), \n",
    "                                                    np.array(target['cyberbullying_type']), \n",
    "                                                    test_size=0.30, random_state=42)"
   ]
  },
  {
   "cell_type": "code",
   "execution_count": null,
   "id": "64c86df0-01cd-4d2e-8c3b-3c257b885d9b",
   "metadata": {},
   "outputs": [],
   "source": [
    "# Vectorize the text data for model\n",
    "vec = TfidfVectorizer(use_idf=True, min_df=0.00002, max_df=0.6)\n",
    "train = vec.fit_transform(X_train.astype('U'))\n",
    "test = vec.transform(X_test.astype('U'))"
   ]
  },
  {
   "cell_type": "code",
   "execution_count": null,
   "id": "6d72b148-fe26-4788-ac00-9218d14ff5e0",
   "metadata": {},
   "outputs": [],
   "source": [
    "# RandomForest model for Classification\n",
    "model = RandomForestClassifier(criterion='entropy')"
   ]
  },
  {
   "cell_type": "code",
   "execution_count": null,
   "id": "897f03fa-9313-4b3e-acf7-d8c9ba841fd1",
   "metadata": {},
   "outputs": [],
   "source": [
    "model.fit(train, y_train)"
   ]
  },
  {
   "cell_type": "code",
   "execution_count": null,
   "id": "e2a5b4bd-412e-4043-8434-69901f86e015",
   "metadata": {},
   "outputs": [],
   "source": [
    "y_pred = model.predict(test)"
   ]
  },
  {
   "cell_type": "code",
   "execution_count": null,
   "id": "153291f3-30b0-4b89-8a65-d22626fe3bd6",
   "metadata": {},
   "outputs": [],
   "source": [
    "print('Overall model accruacy: ', accuracy_score(y_test, y_pred))"
   ]
  },
  {
   "cell_type": "code",
   "execution_count": null,
   "id": "2ce5d46f-44cf-42e6-84f4-e132a3539e38",
   "metadata": {},
   "outputs": [],
   "source": [
    "# classification report for multiclass classification\n",
    "report = classification_report(y_test, y_pred, output_dict=True)\n",
    "class_report = pd.DataFrame(report).transpose()\n",
    "class_report['cuberbullying_type'] = ['not_cyberbulling', 'age', 'gender',\n",
    "                                     'ethnicity', 'religion', 'other_cyberbullying', '', '', '']\n",
    "class_report = class_report[['cuberbullying_type', 'precision', 'recall',\n",
    "                            'f1-score', 'support']]"
   ]
  },
  {
   "cell_type": "code",
   "execution_count": null,
   "id": "b27aea75-113f-410d-bb5b-d48e4b851f9b",
   "metadata": {},
   "outputs": [],
   "source": [
    "class_report"
   ]
  },
  {
   "cell_type": "code",
   "execution_count": null,
   "id": "fa42125a-2a04-4654-9e02-b47e9008bff4",
   "metadata": {},
   "outputs": [],
   "source": [
    "# Serialize and save the model\n",
    "filename = 'model/RandomForest/model.sav'\n",
    "pickle.dump(model, open(filename, 'wb'))"
   ]
  }
 ],
 "metadata": {
  "environment": {
   "kernel": "python3",
   "name": "common-cu110.m94",
   "type": "gcloud",
   "uri": "gcr.io/deeplearning-platform-release/base-cu110:m94"
  },
  "kernelspec": {
   "display_name": "Python 3",
   "language": "python",
   "name": "python3"
  },
  "language_info": {
   "codemirror_mode": {
    "name": "ipython",
    "version": 3
   },
   "file_extension": ".py",
   "mimetype": "text/x-python",
   "name": "python",
   "nbconvert_exporter": "python",
   "pygments_lexer": "ipython3",
   "version": "3.7.12"
  }
 },
 "nbformat": 4,
 "nbformat_minor": 5
}
